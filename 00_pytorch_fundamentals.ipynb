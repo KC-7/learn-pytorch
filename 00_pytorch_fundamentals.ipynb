{
  "nbformat": 4,
  "nbformat_minor": 0,
  "metadata": {
    "colab": {
      "provenance": [],
      "gpuType": "T4",
      "toc_visible": true,
      "authorship_tag": "ABX9TyPe9RHOPVU1DQoMWUjoyfGl",
      "include_colab_link": true
    },
    "kernelspec": {
      "name": "python3",
      "display_name": "Python 3"
    },
    "language_info": {
      "name": "python"
    },
    "accelerator": "GPU"
  },
  "cells": [
    {
      "cell_type": "markdown",
      "metadata": {
        "id": "view-in-github",
        "colab_type": "text"
      },
      "source": [
        "<a href=\"https://colab.research.google.com/github/KC-7/learn-pytorch/blob/main/00_pytorch_fundamentals.ipynb\" target=\"_parent\"><img src=\"https://colab.research.google.com/assets/colab-badge.svg\" alt=\"Open In Colab\"/></a>"
      ]
    },
    {
      "cell_type": "markdown",
      "source": [
        "## 00. PyTorch Fundamentals\n",
        "\n",
        "Resource Notebook: https://www.learnpytorch.io/00_pytorch_fundamentals/\n",
        "\n",
        "Questions RE Notebook Can Be Asked Here: https://github.com/mrdbourke/pytorch-deep-learning/discussions"
      ],
      "metadata": {
        "id": "Ir9C6CLLzJ8g"
      }
    },
    {
      "cell_type": "code",
      "source": [
        "import torch\n",
        "import pandas as pd\n",
        "import numpy as np\n",
        "import matplotlib.pyplot as plt\n",
        "\n",
        "\n",
        "print(torch.__version__)"
      ],
      "metadata": {
        "colab": {
          "base_uri": "https://localhost:8080/"
        },
        "id": "3tnBhaW2zSoT",
        "outputId": "a888caf8-ecd7-46ee-dd3c-57e64a2576ff"
      },
      "execution_count": null,
      "outputs": [
        {
          "output_type": "stream",
          "name": "stdout",
          "text": [
            "2.1.0+cu121\n"
          ]
        }
      ]
    },
    {
      "cell_type": "markdown",
      "source": [
        "## Introduction to Tensors\n",
        "### Creating Tensors\n",
        "\n",
        "PyTorch Tensors are created using `torch.Tensor()` - https://pytorch.org/docs/stable/tensors.html"
      ],
      "metadata": {
        "id": "IwwlwDNm0rIA"
      }
    },
    {
      "cell_type": "code",
      "source": [
        "# Scalar\n",
        "scalar = torch.tensor(7)\n",
        "scalar"
      ],
      "metadata": {
        "colab": {
          "base_uri": "https://localhost:8080/"
        },
        "id": "iHPej6aYyWxZ",
        "outputId": "2e7a9f84-a026-4ea2-a908-8cf9e105f053"
      },
      "execution_count": null,
      "outputs": [
        {
          "output_type": "execute_result",
          "data": {
            "text/plain": [
              "tensor(7)"
            ]
          },
          "metadata": {},
          "execution_count": 3
        }
      ]
    },
    {
      "cell_type": "code",
      "source": [
        "scalar.ndim"
      ],
      "metadata": {
        "colab": {
          "base_uri": "https://localhost:8080/"
        },
        "id": "KtakraBU1Odw",
        "outputId": "2cdaaa73-a543-4100-e275-c9190a24e934"
      },
      "execution_count": null,
      "outputs": [
        {
          "output_type": "execute_result",
          "data": {
            "text/plain": [
              "0"
            ]
          },
          "metadata": {},
          "execution_count": 4
        }
      ]
    },
    {
      "cell_type": "code",
      "source": [
        "# Get tensor back as Python int\n",
        "\n",
        "scalar.item()"
      ],
      "metadata": {
        "colab": {
          "base_uri": "https://localhost:8080/"
        },
        "id": "qLlRQdet2CDd",
        "outputId": "393d1eb1-8e36-423e-f6f2-213f7fc9f599"
      },
      "execution_count": null,
      "outputs": [
        {
          "output_type": "execute_result",
          "data": {
            "text/plain": [
              "7"
            ]
          },
          "metadata": {},
          "execution_count": 5
        }
      ]
    },
    {
      "cell_type": "code",
      "source": [
        "# Vector\n",
        "vector = torch.tensor([7, 7])\n",
        "vector"
      ],
      "metadata": {
        "colab": {
          "base_uri": "https://localhost:8080/"
        },
        "id": "HS9dOD2s2HQG",
        "outputId": "7bf13fc8-17fa-4ba5-9fe1-d85b59f2c2c6"
      },
      "execution_count": null,
      "outputs": [
        {
          "output_type": "execute_result",
          "data": {
            "text/plain": [
              "tensor([7, 7])"
            ]
          },
          "metadata": {},
          "execution_count": 6
        }
      ]
    },
    {
      "cell_type": "code",
      "source": [
        "vector.ndim"
      ],
      "metadata": {
        "colab": {
          "base_uri": "https://localhost:8080/"
        },
        "id": "0Ju9nZkO2ZTJ",
        "outputId": "2f9dcbc9-5928-4757-8075-454bb2da0344"
      },
      "execution_count": null,
      "outputs": [
        {
          "output_type": "execute_result",
          "data": {
            "text/plain": [
              "1"
            ]
          },
          "metadata": {},
          "execution_count": 7
        }
      ]
    },
    {
      "cell_type": "code",
      "source": [
        "vector.shape"
      ],
      "metadata": {
        "colab": {
          "base_uri": "https://localhost:8080/"
        },
        "id": "343XtsV62uRM",
        "outputId": "6afe5c9d-786d-4c89-e7ac-425cc7033443"
      },
      "execution_count": null,
      "outputs": [
        {
          "output_type": "execute_result",
          "data": {
            "text/plain": [
              "torch.Size([2])"
            ]
          },
          "metadata": {},
          "execution_count": 8
        }
      ]
    },
    {
      "cell_type": "code",
      "source": [
        "# MATRIX\n",
        "MATRIX = torch.tensor([[7, 8],\n",
        "                      [9, 10]])\n",
        "MATRIX"
      ],
      "metadata": {
        "colab": {
          "base_uri": "https://localhost:8080/"
        },
        "id": "GTJquWml22YB",
        "outputId": "350f6261-8227-4d2c-a499-0c45ce6e4913"
      },
      "execution_count": null,
      "outputs": [
        {
          "output_type": "execute_result",
          "data": {
            "text/plain": [
              "tensor([[ 7,  8],\n",
              "        [ 9, 10]])"
            ]
          },
          "metadata": {},
          "execution_count": 9
        }
      ]
    },
    {
      "cell_type": "code",
      "source": [
        "MATRIX.ndim"
      ],
      "metadata": {
        "colab": {
          "base_uri": "https://localhost:8080/"
        },
        "id": "6X8uZx1r3bzT",
        "outputId": "d42fbde2-5b45-4419-9e48-f442c3de2543"
      },
      "execution_count": null,
      "outputs": [
        {
          "output_type": "execute_result",
          "data": {
            "text/plain": [
              "2"
            ]
          },
          "metadata": {},
          "execution_count": 10
        }
      ]
    },
    {
      "cell_type": "code",
      "source": [
        "MATRIX[0]"
      ],
      "metadata": {
        "colab": {
          "base_uri": "https://localhost:8080/"
        },
        "id": "2G8s1nxk3nIR",
        "outputId": "2b7838fe-967b-4c62-ccfd-c9320115ae13"
      },
      "execution_count": null,
      "outputs": [
        {
          "output_type": "execute_result",
          "data": {
            "text/plain": [
              "tensor([7, 8])"
            ]
          },
          "metadata": {},
          "execution_count": 11
        }
      ]
    },
    {
      "cell_type": "code",
      "source": [
        "MATRIX[1]"
      ],
      "metadata": {
        "colab": {
          "base_uri": "https://localhost:8080/"
        },
        "id": "9kQeHs6G3utS",
        "outputId": "0af0e105-8a62-4e94-ba63-6f7323217b47"
      },
      "execution_count": null,
      "outputs": [
        {
          "output_type": "execute_result",
          "data": {
            "text/plain": [
              "tensor([ 9, 10])"
            ]
          },
          "metadata": {},
          "execution_count": 12
        }
      ]
    },
    {
      "cell_type": "code",
      "source": [
        "MATRIX.shape"
      ],
      "metadata": {
        "colab": {
          "base_uri": "https://localhost:8080/"
        },
        "id": "Md28yCHJ328d",
        "outputId": "7a97334e-2c3f-4575-c291-d4f7558dca8b"
      },
      "execution_count": null,
      "outputs": [
        {
          "output_type": "execute_result",
          "data": {
            "text/plain": [
              "torch.Size([2, 2])"
            ]
          },
          "metadata": {},
          "execution_count": 13
        }
      ]
    },
    {
      "cell_type": "code",
      "source": [
        "# TENSOR\n",
        "TENSOR = torch.tensor([[[1, 2, 3],\n",
        "                        [4, 5, 6],\n",
        "                        [7, 8, 9]]])\n",
        "\n",
        "TENSOR"
      ],
      "metadata": {
        "colab": {
          "base_uri": "https://localhost:8080/"
        },
        "id": "KhJO0DRZ35Bx",
        "outputId": "8bc04d75-96a1-48af-ce77-f93e35129dcb"
      },
      "execution_count": null,
      "outputs": [
        {
          "output_type": "execute_result",
          "data": {
            "text/plain": [
              "tensor([[[1, 2, 3],\n",
              "         [4, 5, 6],\n",
              "         [7, 8, 9]]])"
            ]
          },
          "metadata": {},
          "execution_count": 14
        }
      ]
    },
    {
      "cell_type": "code",
      "source": [
        "TENSOR.ndim"
      ],
      "metadata": {
        "colab": {
          "base_uri": "https://localhost:8080/"
        },
        "id": "02TU270L4YmX",
        "outputId": "f29ceed5-9ad4-48bb-b81d-b17d8027a426"
      },
      "execution_count": null,
      "outputs": [
        {
          "output_type": "execute_result",
          "data": {
            "text/plain": [
              "3"
            ]
          },
          "metadata": {},
          "execution_count": 15
        }
      ]
    },
    {
      "cell_type": "code",
      "source": [
        "TENSOR.shape"
      ],
      "metadata": {
        "colab": {
          "base_uri": "https://localhost:8080/"
        },
        "id": "mK82a0bH4lg_",
        "outputId": "59635918-8a4d-47c0-900f-79139b58c6a1"
      },
      "execution_count": null,
      "outputs": [
        {
          "output_type": "execute_result",
          "data": {
            "text/plain": [
              "torch.Size([1, 3, 3])"
            ]
          },
          "metadata": {},
          "execution_count": 16
        }
      ]
    },
    {
      "cell_type": "code",
      "source": [
        "TENSOR[0]"
      ],
      "metadata": {
        "colab": {
          "base_uri": "https://localhost:8080/"
        },
        "id": "oWumYYhA4nKY",
        "outputId": "46beff09-3c35-46de-ecd5-c9eb6aee7314"
      },
      "execution_count": null,
      "outputs": [
        {
          "output_type": "execute_result",
          "data": {
            "text/plain": [
              "tensor([[1, 2, 3],\n",
              "        [4, 5, 6],\n",
              "        [7, 8, 9]])"
            ]
          },
          "metadata": {},
          "execution_count": 17
        }
      ]
    },
    {
      "cell_type": "code",
      "source": [
        "# TENSOR - Test 2\n",
        "TENSOR = torch.tensor([[[1, 2, 3],\n",
        "                        [4, 5, 6],\n",
        "                        [7, 8, 9],\n",
        "                        [10, 11, 12],\n",
        "                        [13, 14, 15],\n",
        "                        [16, 17, 18]]])\n",
        "\n",
        "TENSOR"
      ],
      "metadata": {
        "colab": {
          "base_uri": "https://localhost:8080/"
        },
        "id": "ueFkMtth4xvA",
        "outputId": "c5396681-5f4a-4731-87cc-5cb1cb968f9a"
      },
      "execution_count": null,
      "outputs": [
        {
          "output_type": "execute_result",
          "data": {
            "text/plain": [
              "tensor([[[ 1,  2,  3],\n",
              "         [ 4,  5,  6],\n",
              "         [ 7,  8,  9],\n",
              "         [10, 11, 12],\n",
              "         [13, 14, 15],\n",
              "         [16, 17, 18]]])"
            ]
          },
          "metadata": {},
          "execution_count": 18
        }
      ]
    },
    {
      "cell_type": "code",
      "source": [
        "TENSOR.ndim"
      ],
      "metadata": {
        "colab": {
          "base_uri": "https://localhost:8080/"
        },
        "id": "nB8SPRQV5YDw",
        "outputId": "6636635c-91b5-4cc1-a162-cb3909a7dd7b"
      },
      "execution_count": null,
      "outputs": [
        {
          "output_type": "execute_result",
          "data": {
            "text/plain": [
              "3"
            ]
          },
          "metadata": {},
          "execution_count": 19
        }
      ]
    },
    {
      "cell_type": "code",
      "source": [
        "TENSOR.shape"
      ],
      "metadata": {
        "colab": {
          "base_uri": "https://localhost:8080/"
        },
        "id": "FykaHzFm5bAJ",
        "outputId": "510b8e0e-5113-4547-c83d-42b14f57d1c0"
      },
      "execution_count": null,
      "outputs": [
        {
          "output_type": "execute_result",
          "data": {
            "text/plain": [
              "torch.Size([1, 6, 3])"
            ]
          },
          "metadata": {},
          "execution_count": 20
        }
      ]
    },
    {
      "cell_type": "code",
      "source": [
        "TENSOR[0]"
      ],
      "metadata": {
        "colab": {
          "base_uri": "https://localhost:8080/"
        },
        "id": "jnT9ygcr5d04",
        "outputId": "623af78c-92b7-4dd4-87aa-b27e6c0ca3a8"
      },
      "execution_count": null,
      "outputs": [
        {
          "output_type": "execute_result",
          "data": {
            "text/plain": [
              "tensor([[ 1,  2,  3],\n",
              "        [ 4,  5,  6],\n",
              "        [ 7,  8,  9],\n",
              "        [10, 11, 12],\n",
              "        [13, 14, 15],\n",
              "        [16, 17, 18]])"
            ]
          },
          "metadata": {},
          "execution_count": 21
        }
      ]
    },
    {
      "cell_type": "markdown",
      "source": [
        "### Random Tensors\n",
        "\n",
        "Why random tensors?\n",
        "\n",
        "Random tensors are important because the way many neural netowrks learn is that they start with tensors full of random numbers and then adjust those random numbers to better represent the data.\n",
        "\n",
        "`Start with random numbers -> Look at data -> Update random numbers -> Look at data -> Update random numbers`\n",
        "\n",
        "https://pytorch.org/docs/stable/generated/torch.rand.html"
      ],
      "metadata": {
        "id": "EM0OR0E_6lfF"
      }
    },
    {
      "cell_type": "code",
      "source": [
        "# Create a random tensor of size (3, 4)\n",
        "random_tensor = torch.rand(3, 4)\n",
        "\n",
        "random_tensor"
      ],
      "metadata": {
        "colab": {
          "base_uri": "https://localhost:8080/"
        },
        "id": "7XCXGMst5nkp",
        "outputId": "94873eaa-df2d-41a6-9e23-9a595ace488c"
      },
      "execution_count": null,
      "outputs": [
        {
          "output_type": "execute_result",
          "data": {
            "text/plain": [
              "tensor([[0.2552, 0.8569, 0.6022, 0.4888],\n",
              "        [0.6781, 0.0628, 0.1787, 0.0683],\n",
              "        [0.9632, 0.2965, 0.1436, 0.7717]])"
            ]
          },
          "metadata": {},
          "execution_count": 22
        }
      ]
    },
    {
      "cell_type": "code",
      "source": [
        "random_tensor.ndim"
      ],
      "metadata": {
        "colab": {
          "base_uri": "https://localhost:8080/"
        },
        "id": "35pnAS4N7vxi",
        "outputId": "a7c4757d-7ec3-4a03-e52e-97bdd83f2635"
      },
      "execution_count": null,
      "outputs": [
        {
          "output_type": "execute_result",
          "data": {
            "text/plain": [
              "2"
            ]
          },
          "metadata": {},
          "execution_count": 23
        }
      ]
    },
    {
      "cell_type": "code",
      "source": [
        "random_tensor.shape"
      ],
      "metadata": {
        "colab": {
          "base_uri": "https://localhost:8080/"
        },
        "id": "3S7bRLfG72fc",
        "outputId": "51a3b13a-14e7-4824-ddc4-b0c101c22006"
      },
      "execution_count": null,
      "outputs": [
        {
          "output_type": "execute_result",
          "data": {
            "text/plain": [
              "torch.Size([3, 4])"
            ]
          },
          "metadata": {},
          "execution_count": 24
        }
      ]
    },
    {
      "cell_type": "code",
      "source": [
        "random_tensor[0]"
      ],
      "metadata": {
        "colab": {
          "base_uri": "https://localhost:8080/"
        },
        "id": "RVcr1Shw7441",
        "outputId": "c6b27868-d82d-4a5a-9ca1-ece779027e04"
      },
      "execution_count": null,
      "outputs": [
        {
          "output_type": "execute_result",
          "data": {
            "text/plain": [
              "tensor([0.2552, 0.8569, 0.6022, 0.4888])"
            ]
          },
          "metadata": {},
          "execution_count": 25
        }
      ]
    },
    {
      "cell_type": "code",
      "source": [
        "# Create a random tensor of size 10, 10, 10)\n",
        "random_tensor2 = torch.rand(10, 10, 10)\n",
        "\n",
        "random_tensor2"
      ],
      "metadata": {
        "colab": {
          "base_uri": "https://localhost:8080/"
        },
        "id": "q24R37kD7-4B",
        "outputId": "4c04b05f-a75a-4a44-ce19-4a19ba9605e6"
      },
      "execution_count": null,
      "outputs": [
        {
          "output_type": "execute_result",
          "data": {
            "text/plain": [
              "tensor([[[5.3236e-02, 6.1356e-01, 8.1858e-01, 7.0635e-01, 3.6923e-02,\n",
              "          6.0206e-01, 1.5470e-01, 6.5929e-01, 8.8378e-01, 1.2031e-01],\n",
              "         [5.5054e-01, 3.2921e-02, 5.6263e-01, 3.0068e-01, 5.5789e-02,\n",
              "          3.1418e-01, 7.8502e-01, 8.0191e-01, 4.8388e-01, 6.4416e-02],\n",
              "         [8.8860e-01, 5.2882e-01, 9.0492e-01, 2.2150e-03, 9.9254e-01,\n",
              "          4.5803e-01, 7.0228e-01, 7.5480e-01, 3.9310e-01, 6.9023e-01],\n",
              "         [2.3257e-03, 1.1428e-01, 2.5602e-01, 4.2623e-01, 4.1698e-01,\n",
              "          4.6947e-01, 4.5090e-01, 9.1669e-01, 7.8724e-02, 5.1126e-01],\n",
              "         [8.7170e-01, 2.3652e-01, 4.7191e-01, 4.1310e-01, 4.5251e-01,\n",
              "          7.4971e-01, 6.9726e-01, 3.9081e-01, 4.1109e-01, 3.6908e-01],\n",
              "         [9.6780e-01, 9.7909e-02, 5.8009e-01, 6.0670e-01, 6.1343e-01,\n",
              "          8.9664e-01, 1.7941e-01, 3.0309e-01, 9.4788e-03, 3.3488e-01],\n",
              "         [7.2110e-01, 2.8443e-01, 8.1318e-01, 9.9807e-01, 2.1697e-02,\n",
              "          9.0236e-01, 7.8770e-01, 5.9006e-01, 8.7781e-01, 5.6636e-02],\n",
              "         [6.9389e-01, 1.1529e-01, 2.6474e-01, 2.7242e-01, 2.2488e-01,\n",
              "          3.0461e-01, 8.7588e-01, 3.5486e-01, 1.3788e-01, 7.3295e-01],\n",
              "         [6.0558e-01, 4.6264e-02, 3.2848e-01, 4.1195e-01, 7.1821e-01,\n",
              "          2.6381e-01, 4.6625e-01, 5.4302e-01, 7.4425e-02, 5.3226e-01],\n",
              "         [8.0257e-01, 6.3033e-01, 9.5269e-01, 3.5851e-01, 2.1918e-01,\n",
              "          6.1382e-01, 8.4880e-01, 1.4581e-01, 7.9044e-01, 5.7711e-01]],\n",
              "\n",
              "        [[6.0148e-01, 3.3315e-01, 2.5156e-01, 9.0221e-01, 1.3628e-01,\n",
              "          1.6082e-01, 6.0989e-01, 8.3230e-01, 5.2240e-01, 6.2696e-01],\n",
              "         [5.0933e-01, 1.1256e-01, 4.3012e-01, 2.2072e-01, 9.1741e-01,\n",
              "          9.0112e-02, 9.4326e-02, 4.4556e-01, 9.3380e-01, 8.0254e-01],\n",
              "         [9.4642e-01, 5.2321e-01, 2.3069e-01, 9.2880e-01, 1.9372e-01,\n",
              "          4.9332e-01, 2.4987e-01, 8.7725e-01, 6.6528e-01, 4.7884e-01],\n",
              "         [6.3320e-01, 4.7342e-01, 5.6175e-01, 6.1641e-01, 8.3088e-01,\n",
              "          4.7730e-01, 2.9394e-01, 8.2399e-02, 2.5620e-01, 9.8108e-01],\n",
              "         [9.3786e-01, 3.0504e-01, 9.9619e-01, 2.2107e-01, 3.6981e-01,\n",
              "          1.3089e-01, 7.4243e-01, 6.1260e-01, 6.2309e-01, 2.5207e-01],\n",
              "         [1.2600e-01, 5.7302e-01, 4.0849e-02, 3.2665e-01, 6.3065e-01,\n",
              "          8.4521e-01, 5.9407e-01, 6.2478e-02, 8.8739e-01, 6.0841e-01],\n",
              "         [6.2530e-01, 5.1765e-01, 9.8285e-01, 6.4740e-02, 8.2050e-01,\n",
              "          7.5850e-01, 4.5501e-01, 3.1160e-01, 7.9450e-01, 3.1835e-01],\n",
              "         [2.0499e-01, 8.7986e-01, 3.2957e-01, 9.9745e-01, 5.3397e-01,\n",
              "          1.9202e-01, 6.8875e-02, 9.8177e-01, 2.4021e-01, 3.7715e-01],\n",
              "         [8.9921e-01, 2.3592e-01, 8.2528e-01, 8.2639e-02, 8.2738e-01,\n",
              "          2.6915e-01, 4.0427e-01, 4.4714e-01, 2.2404e-01, 6.8273e-01],\n",
              "         [8.6515e-01, 4.3028e-01, 5.0995e-01, 6.5808e-01, 4.2882e-01,\n",
              "          6.1096e-01, 1.1513e-01, 7.4604e-01, 9.4173e-01, 4.9077e-01]],\n",
              "\n",
              "        [[8.8686e-01, 1.0284e-01, 1.4864e-01, 2.0859e-01, 9.6190e-02,\n",
              "          6.4645e-01, 9.5233e-01, 8.2184e-01, 8.3042e-01, 8.7666e-01],\n",
              "         [9.4396e-01, 4.2543e-01, 4.1253e-01, 9.5555e-01, 1.9497e-01,\n",
              "          1.7356e-01, 4.0247e-01, 3.8360e-01, 8.8826e-01, 9.5116e-01],\n",
              "         [1.1133e-01, 2.2551e-01, 7.5098e-01, 7.5445e-01, 5.3809e-01,\n",
              "          1.0340e-01, 6.4496e-02, 4.0181e-02, 9.2020e-01, 7.8783e-01],\n",
              "         [8.8747e-01, 1.6305e-01, 9.9387e-01, 3.2899e-01, 6.3375e-01,\n",
              "          1.3396e-01, 1.6029e-01, 1.0702e-01, 6.4017e-01, 9.7246e-01],\n",
              "         [6.2778e-01, 5.5865e-01, 7.4133e-01, 4.0025e-01, 6.3358e-01,\n",
              "          6.2524e-01, 8.2125e-01, 4.5168e-01, 5.7494e-01, 9.9053e-01],\n",
              "         [5.0614e-01, 2.9960e-01, 6.0980e-01, 6.3514e-01, 2.1798e-01,\n",
              "          7.1524e-01, 7.2924e-01, 2.8674e-01, 3.0520e-01, 3.9579e-01],\n",
              "         [1.8646e-01, 3.2405e-01, 7.7859e-01, 3.2053e-01, 2.2949e-01,\n",
              "          2.7958e-01, 6.8149e-02, 5.9870e-01, 6.3076e-01, 5.8521e-03],\n",
              "         [2.4204e-01, 4.1376e-01, 9.4916e-01, 1.8938e-02, 1.2743e-01,\n",
              "          3.8752e-01, 7.9407e-02, 2.4323e-01, 3.4079e-01, 5.0848e-01],\n",
              "         [4.0209e-01, 1.2300e-01, 9.1346e-01, 3.6314e-01, 1.5785e-01,\n",
              "          6.3203e-01, 3.4098e-01, 6.0018e-01, 3.5510e-01, 2.5088e-01],\n",
              "         [2.1166e-01, 5.1073e-01, 8.4775e-02, 8.5630e-01, 1.8205e-01,\n",
              "          6.7485e-01, 1.2239e-01, 2.3251e-01, 9.6963e-01, 5.1005e-01]],\n",
              "\n",
              "        [[5.9446e-01, 2.9024e-01, 1.3777e-01, 7.0332e-01, 2.3351e-01,\n",
              "          3.8235e-01, 7.9706e-01, 7.2017e-01, 7.6972e-01, 2.1638e-01],\n",
              "         [8.3224e-02, 5.4555e-01, 9.3059e-01, 5.0388e-01, 7.1109e-01,\n",
              "          1.3830e-01, 2.7762e-01, 1.9841e-01, 2.4924e-01, 1.4127e-01],\n",
              "         [2.0130e-02, 6.2668e-01, 8.4520e-01, 9.8848e-01, 5.0780e-01,\n",
              "          7.2925e-01, 2.3572e-01, 9.4193e-01, 1.0339e-01, 6.6108e-01],\n",
              "         [4.5907e-01, 7.2609e-01, 1.1495e-01, 4.5151e-01, 6.3236e-02,\n",
              "          8.9865e-01, 2.7567e-01, 1.7836e-01, 1.9544e-01, 7.6433e-01],\n",
              "         [5.4189e-01, 9.3697e-01, 8.6756e-01, 8.1056e-02, 6.5427e-02,\n",
              "          7.7181e-01, 8.5653e-01, 1.0805e-01, 4.7791e-01, 1.9356e-01],\n",
              "         [8.1600e-01, 4.2304e-01, 3.0830e-01, 8.4315e-01, 8.2739e-01,\n",
              "          7.0545e-01, 2.0735e-01, 2.9855e-01, 2.2933e-03, 7.7549e-01],\n",
              "         [1.7521e-01, 1.9790e-01, 6.1545e-01, 4.8945e-01, 9.1782e-01,\n",
              "          6.3385e-01, 5.2119e-01, 6.1648e-02, 3.8777e-01, 8.0262e-01],\n",
              "         [6.8400e-01, 9.6526e-01, 2.0001e-01, 4.0565e-01, 3.5015e-02,\n",
              "          1.6266e-02, 6.2489e-01, 5.7051e-01, 3.8533e-01, 7.9405e-01],\n",
              "         [5.3627e-01, 9.1690e-01, 1.2977e-01, 5.5598e-02, 4.4756e-01,\n",
              "          4.1405e-01, 8.8005e-01, 7.2193e-01, 2.5780e-01, 8.1480e-01],\n",
              "         [6.0729e-02, 3.5473e-01, 4.8822e-01, 1.9737e-01, 9.9069e-01,\n",
              "          6.3927e-03, 6.6223e-02, 7.5797e-02, 1.7983e-01, 2.3485e-01]],\n",
              "\n",
              "        [[4.7377e-01, 9.1292e-01, 2.2541e-01, 6.4787e-01, 7.8692e-02,\n",
              "          4.8051e-01, 4.9647e-01, 5.6725e-01, 1.8614e-01, 7.4837e-01],\n",
              "         [4.4636e-01, 5.1009e-01, 7.2205e-01, 1.6709e-01, 3.9713e-01,\n",
              "          5.8748e-01, 7.0026e-01, 7.1556e-01, 9.9898e-01, 9.7547e-01],\n",
              "         [6.8226e-01, 8.2800e-01, 4.3385e-01, 8.4001e-01, 3.1756e-01,\n",
              "          8.2371e-01, 7.3678e-01, 7.0982e-01, 3.2812e-01, 9.6069e-01],\n",
              "         [3.6674e-01, 3.4629e-02, 6.7113e-01, 3.5613e-01, 6.4470e-01,\n",
              "          2.2467e-01, 4.4514e-02, 9.1103e-01, 3.4052e-01, 6.4241e-01],\n",
              "         [1.0146e-03, 1.8298e-01, 1.0545e-01, 8.6204e-02, 7.5909e-01,\n",
              "          3.9323e-01, 6.4347e-01, 3.0334e-01, 5.4198e-01, 5.0437e-01],\n",
              "         [4.6126e-01, 9.5316e-01, 4.0576e-01, 3.1761e-01, 8.3232e-01,\n",
              "          3.5413e-01, 9.4240e-01, 1.8926e-01, 7.3869e-01, 6.0511e-01],\n",
              "         [2.2631e-01, 2.7201e-01, 4.4373e-01, 7.2127e-01, 7.3172e-01,\n",
              "          4.1940e-01, 4.6501e-01, 2.2020e-01, 7.6015e-01, 8.7969e-01],\n",
              "         [5.0889e-01, 1.7392e-01, 4.9450e-02, 9.4351e-01, 5.9543e-01,\n",
              "          8.9260e-01, 1.8491e-01, 8.6703e-01, 9.2612e-01, 9.8584e-01],\n",
              "         [7.2994e-01, 1.1729e-02, 5.3413e-02, 6.2740e-01, 5.3293e-01,\n",
              "          4.0033e-01, 3.3006e-01, 5.9687e-01, 5.4654e-01, 6.9095e-01],\n",
              "         [9.5146e-01, 6.2583e-01, 8.0832e-01, 5.4772e-01, 1.9637e-01,\n",
              "          7.4685e-02, 2.3200e-01, 6.8609e-01, 8.0707e-01, 6.7779e-01]],\n",
              "\n",
              "        [[8.7119e-01, 5.7143e-01, 7.2898e-01, 2.5910e-02, 2.3392e-01,\n",
              "          2.1420e-01, 7.3346e-01, 4.2490e-02, 8.6521e-02, 9.0897e-01],\n",
              "         [1.6994e-01, 6.0526e-01, 4.2920e-01, 6.1123e-02, 3.0957e-01,\n",
              "          7.6764e-01, 4.7606e-01, 9.3886e-01, 4.2465e-01, 3.3437e-02],\n",
              "         [4.6698e-01, 3.2459e-01, 5.4123e-01, 2.7846e-01, 9.7551e-01,\n",
              "          5.4506e-01, 7.8233e-01, 9.4443e-01, 4.8501e-01, 4.9157e-01],\n",
              "         [3.3208e-01, 2.6893e-01, 2.5601e-01, 3.9666e-01, 9.7585e-01,\n",
              "          9.2894e-01, 9.8925e-01, 4.4595e-01, 5.3424e-01, 1.5194e-02],\n",
              "         [8.0904e-01, 3.6448e-01, 4.4838e-02, 9.3515e-02, 1.4074e-01,\n",
              "          3.0857e-01, 4.0002e-01, 3.3465e-01, 2.9581e-01, 1.0277e-01],\n",
              "         [2.6999e-01, 8.9559e-01, 1.4513e-01, 1.3954e-01, 6.4613e-01,\n",
              "          7.7253e-01, 6.6543e-01, 2.9504e-01, 3.3734e-01, 5.6349e-01],\n",
              "         [8.6356e-01, 7.6594e-02, 2.6136e-01, 9.2509e-01, 4.8874e-01,\n",
              "          4.9198e-01, 2.1817e-01, 3.6031e-02, 3.3074e-01, 1.0370e-01],\n",
              "         [1.9192e-01, 5.6846e-01, 2.8813e-01, 5.7934e-01, 3.7734e-01,\n",
              "          2.4404e-01, 9.9664e-01, 5.1642e-01, 3.9088e-01, 7.6329e-01],\n",
              "         [5.1458e-01, 4.0501e-01, 3.7359e-01, 9.4560e-01, 1.8087e-01,\n",
              "          6.8322e-01, 1.8746e-01, 5.5100e-01, 7.7480e-01, 8.1454e-02],\n",
              "         [3.7454e-01, 9.9327e-02, 7.1006e-01, 8.1199e-01, 4.7153e-01,\n",
              "          6.1219e-01, 7.8456e-01, 9.0198e-01, 2.1716e-02, 1.6388e-01]],\n",
              "\n",
              "        [[3.1296e-01, 3.2866e-01, 2.9594e-01, 1.2536e-01, 4.7597e-01,\n",
              "          6.3523e-01, 8.3146e-02, 1.3274e-01, 4.2895e-01, 1.2664e-01],\n",
              "         [4.9770e-01, 7.7045e-01, 4.3993e-01, 6.7133e-01, 3.7900e-01,\n",
              "          2.8292e-01, 3.1614e-01, 9.8511e-01, 2.7606e-02, 8.8219e-02],\n",
              "         [6.4543e-01, 9.9446e-01, 2.3127e-01, 3.3637e-01, 9.8723e-01,\n",
              "          8.8333e-01, 1.2966e-01, 4.1476e-01, 8.1804e-01, 8.6047e-01],\n",
              "         [3.0650e-01, 5.7329e-01, 4.0179e-01, 4.0509e-01, 5.5682e-01,\n",
              "          8.6072e-02, 1.7193e-01, 1.2662e-01, 3.1488e-01, 1.7697e-01],\n",
              "         [6.2504e-01, 9.2846e-01, 7.2040e-01, 7.6392e-01, 7.1902e-01,\n",
              "          8.9694e-02, 5.1727e-01, 2.4959e-01, 3.5629e-01, 8.1165e-01],\n",
              "         [2.9668e-01, 6.2640e-01, 8.2209e-01, 4.5652e-01, 5.1288e-01,\n",
              "          1.6296e-01, 6.2687e-01, 3.6251e-01, 9.5499e-01, 3.9590e-01],\n",
              "         [8.7200e-01, 2.3258e-01, 9.1553e-01, 3.7664e-01, 1.8722e-01,\n",
              "          9.9392e-02, 5.4788e-01, 6.3052e-01, 2.9156e-01, 5.3365e-01],\n",
              "         [9.3675e-02, 5.0792e-03, 1.9564e-01, 2.6960e-01, 5.7579e-01,\n",
              "          6.8313e-02, 2.4121e-01, 5.1984e-02, 1.9757e-01, 5.8495e-01],\n",
              "         [3.2014e-01, 3.6200e-01, 9.7175e-01, 5.3040e-01, 6.9902e-01,\n",
              "          3.0846e-01, 3.5397e-01, 2.3106e-01, 7.4466e-01, 7.7599e-01],\n",
              "         [9.4367e-01, 9.9765e-01, 7.4883e-01, 5.9727e-01, 6.1390e-01,\n",
              "          6.8131e-01, 4.4223e-01, 2.7236e-01, 8.8191e-01, 7.9377e-01]],\n",
              "\n",
              "        [[5.6147e-01, 3.8879e-01, 7.0117e-01, 4.9277e-01, 3.5075e-01,\n",
              "          6.9974e-02, 5.4932e-01, 6.4700e-01, 8.3955e-01, 8.9093e-01],\n",
              "         [8.9220e-01, 1.1383e-01, 6.0111e-01, 5.7621e-01, 8.0902e-01,\n",
              "          3.0706e-01, 3.7383e-01, 3.4591e-01, 5.9009e-01, 8.8215e-01],\n",
              "         [6.8945e-02, 7.0915e-01, 6.5015e-01, 2.0569e-01, 7.0544e-01,\n",
              "          3.6641e-01, 6.9327e-01, 3.4762e-01, 8.6684e-02, 5.1159e-01],\n",
              "         [9.5811e-01, 4.9603e-01, 1.8621e-01, 1.1683e-01, 6.3628e-01,\n",
              "          8.8123e-01, 3.1070e-01, 2.9385e-01, 2.0756e-01, 7.8936e-01],\n",
              "         [5.3525e-01, 5.2468e-01, 3.8776e-01, 2.3412e-01, 1.2998e-01,\n",
              "          5.0322e-01, 9.2291e-01, 6.4833e-01, 7.1652e-01, 9.6267e-01],\n",
              "         [1.8843e-01, 5.8493e-01, 4.1130e-01, 7.8378e-01, 5.7766e-01,\n",
              "          3.7627e-01, 7.4847e-01, 2.2963e-01, 6.2739e-01, 1.4414e-01],\n",
              "         [1.8828e-01, 5.6859e-01, 6.5701e-01, 9.1520e-01, 6.5739e-02,\n",
              "          1.8507e-01, 7.9392e-01, 6.8383e-01, 2.4914e-01, 9.7311e-01],\n",
              "         [2.8861e-01, 4.4410e-01, 5.5410e-01, 7.1423e-01, 6.3572e-01,\n",
              "          5.6018e-01, 2.6413e-01, 9.8880e-01, 3.0219e-01, 3.7241e-01],\n",
              "         [2.5962e-01, 8.8262e-01, 1.9870e-01, 4.7687e-01, 9.6905e-01,\n",
              "          4.9932e-02, 4.0340e-01, 3.5069e-01, 7.1277e-01, 3.3631e-01],\n",
              "         [1.6330e-01, 7.2725e-01, 4.2488e-01, 2.2718e-01, 5.5877e-02,\n",
              "          2.8685e-02, 1.4174e-01, 2.8835e-01, 4.8739e-01, 5.8174e-01]],\n",
              "\n",
              "        [[2.7956e-02, 8.0871e-01, 3.0243e-01, 6.0471e-01, 9.3153e-01,\n",
              "          6.3390e-01, 9.8391e-01, 1.3058e-02, 2.3882e-03, 9.2852e-04],\n",
              "         [9.3660e-02, 8.6723e-01, 1.8065e-01, 7.1523e-01, 5.6382e-01,\n",
              "          7.1866e-01, 4.1122e-01, 5.1098e-01, 2.4569e-01, 8.3903e-01],\n",
              "         [4.6343e-01, 3.4818e-01, 1.1514e-02, 5.0398e-01, 5.9492e-01,\n",
              "          7.4436e-01, 5.0906e-01, 1.0911e-01, 9.0358e-01, 6.5589e-01],\n",
              "         [7.5409e-01, 8.2430e-01, 8.7841e-01, 2.0902e-01, 2.9459e-01,\n",
              "          1.9496e-01, 7.4929e-01, 9.9003e-01, 9.8419e-01, 7.1642e-01],\n",
              "         [7.8071e-01, 3.9519e-01, 7.8654e-01, 2.0827e-01, 2.3248e-01,\n",
              "          1.5310e-01, 3.2775e-01, 4.7478e-01, 2.9610e-02, 4.6250e-01],\n",
              "         [9.1900e-01, 7.0288e-01, 4.3435e-02, 8.4255e-01, 7.2409e-01,\n",
              "          2.4917e-01, 4.7416e-01, 9.4506e-01, 6.8041e-01, 5.7170e-01],\n",
              "         [5.7439e-01, 5.9285e-01, 8.2798e-01, 6.5999e-01, 3.3624e-01,\n",
              "          3.7960e-01, 7.6990e-01, 6.7445e-01, 9.5534e-01, 9.1720e-01],\n",
              "         [2.0847e-01, 8.3505e-01, 8.4416e-01, 6.8146e-01, 2.3293e-01,\n",
              "          4.7392e-01, 3.8739e-01, 4.6140e-01, 5.2359e-01, 6.4829e-01],\n",
              "         [7.2925e-01, 5.2477e-01, 7.1011e-01, 4.6365e-01, 7.4654e-01,\n",
              "          1.8582e-02, 3.4372e-01, 6.9753e-01, 3.1944e-01, 6.4321e-02],\n",
              "         [3.4983e-01, 9.8020e-01, 7.8432e-01, 1.1602e-02, 6.4014e-01,\n",
              "          3.9955e-01, 4.4844e-01, 6.3651e-01, 5.8007e-01, 2.0595e-01]],\n",
              "\n",
              "        [[4.3448e-01, 2.3628e-01, 5.4973e-01, 5.8742e-01, 5.8818e-01,\n",
              "          8.7783e-01, 4.6982e-01, 3.9476e-01, 6.3713e-01, 6.9637e-01],\n",
              "         [6.8478e-01, 6.6381e-01, 2.7450e-01, 3.1271e-01, 2.5098e-01,\n",
              "          9.8274e-01, 6.1205e-01, 5.1046e-01, 3.9680e-01, 7.8531e-01],\n",
              "         [3.5617e-01, 2.7313e-01, 4.6854e-01, 7.8803e-01, 5.9777e-01,\n",
              "          1.5507e-01, 2.9923e-01, 5.3360e-01, 6.0702e-01, 4.4838e-01],\n",
              "         [6.0092e-01, 1.4961e-01, 2.4126e-01, 9.2316e-01, 3.6263e-01,\n",
              "          7.1176e-01, 8.1010e-01, 8.6553e-01, 7.3219e-01, 4.6369e-01],\n",
              "         [8.1788e-01, 3.6472e-01, 2.6370e-01, 8.8232e-01, 4.4981e-01,\n",
              "          4.2220e-01, 9.8280e-01, 8.5158e-01, 3.0643e-01, 7.2657e-01],\n",
              "         [9.1464e-01, 4.1427e-01, 5.3678e-01, 3.5913e-01, 8.7786e-01,\n",
              "          1.7877e-01, 7.7487e-01, 2.9015e-01, 2.5162e-01, 2.9173e-01],\n",
              "         [5.8002e-01, 2.3886e-01, 9.3053e-01, 1.1713e-01, 1.9595e-01,\n",
              "          2.6310e-01, 7.3027e-01, 2.5721e-02, 4.6904e-02, 9.9025e-01],\n",
              "         [2.2509e-01, 9.6696e-01, 8.9379e-01, 7.0111e-01, 9.1384e-01,\n",
              "          5.8282e-01, 8.9495e-01, 9.6019e-01, 8.6722e-01, 4.4311e-01],\n",
              "         [8.6571e-01, 5.3392e-01, 9.8107e-01, 9.3642e-01, 8.1918e-01,\n",
              "          4.7932e-01, 9.6132e-01, 8.4005e-01, 2.0648e-01, 4.1808e-01],\n",
              "         [8.0133e-02, 9.3736e-01, 9.4741e-01, 4.6255e-01, 5.7940e-01,\n",
              "          9.7427e-01, 2.6387e-01, 2.6032e-01, 9.5312e-01, 7.6580e-01]]])"
            ]
          },
          "metadata": {},
          "execution_count": 26
        }
      ]
    },
    {
      "cell_type": "code",
      "source": [
        "random_tensor2.ndim"
      ],
      "metadata": {
        "colab": {
          "base_uri": "https://localhost:8080/"
        },
        "id": "c4UFS6248FWI",
        "outputId": "0389cbb0-1030-4179-e7fd-c7eba37e3e80"
      },
      "execution_count": null,
      "outputs": [
        {
          "output_type": "execute_result",
          "data": {
            "text/plain": [
              "3"
            ]
          },
          "metadata": {},
          "execution_count": 27
        }
      ]
    },
    {
      "cell_type": "code",
      "source": [
        "random_tensor2.shape"
      ],
      "metadata": {
        "colab": {
          "base_uri": "https://localhost:8080/"
        },
        "id": "DewqjtJL8IRP",
        "outputId": "06f1cbf0-d9dd-40bc-fb98-f629af7c04de"
      },
      "execution_count": null,
      "outputs": [
        {
          "output_type": "execute_result",
          "data": {
            "text/plain": [
              "torch.Size([10, 10, 10])"
            ]
          },
          "metadata": {},
          "execution_count": 28
        }
      ]
    },
    {
      "cell_type": "code",
      "source": [
        "random_tensor2.dtype"
      ],
      "metadata": {
        "colab": {
          "base_uri": "https://localhost:8080/"
        },
        "id": "BU9q1B2A_Qng",
        "outputId": "b391b208-0417-4db9-bc68-e4be204c740f"
      },
      "execution_count": null,
      "outputs": [
        {
          "output_type": "execute_result",
          "data": {
            "text/plain": [
              "torch.float32"
            ]
          },
          "metadata": {},
          "execution_count": 29
        }
      ]
    },
    {
      "cell_type": "code",
      "source": [
        "# Create a random tensor with similar shape to an image tensor\n",
        "random_image_size_tensor = torch.rand(size=(3, 224, 224)) # colour channels (R, G, B), height, width\n",
        "random_image_size_tensor.shape, random_image_size_tensor.ndim"
      ],
      "metadata": {
        "colab": {
          "base_uri": "https://localhost:8080/"
        },
        "id": "HP5vXePG8Kgx",
        "outputId": "b469754f-8567-40d6-cd96-517a2b33ee04"
      },
      "execution_count": null,
      "outputs": [
        {
          "output_type": "execute_result",
          "data": {
            "text/plain": [
              "(torch.Size([3, 224, 224]), 3)"
            ]
          },
          "metadata": {},
          "execution_count": 30
        }
      ]
    },
    {
      "cell_type": "markdown",
      "source": [
        "### Zeros & Ones\n"
      ],
      "metadata": {
        "id": "AA38zef0-C29"
      }
    },
    {
      "cell_type": "code",
      "source": [
        "# Create a tensor of all zeros\n",
        "zeros = torch.zeros(size=(3, 4))\n",
        "\n",
        "zeros"
      ],
      "metadata": {
        "colab": {
          "base_uri": "https://localhost:8080/"
        },
        "id": "5JJaNAkG9448",
        "outputId": "e5913960-c1f3-4cfa-957d-359bc18f49ea"
      },
      "execution_count": null,
      "outputs": [
        {
          "output_type": "execute_result",
          "data": {
            "text/plain": [
              "tensor([[0., 0., 0., 0.],\n",
              "        [0., 0., 0., 0.],\n",
              "        [0., 0., 0., 0.]])"
            ]
          },
          "metadata": {},
          "execution_count": 31
        }
      ]
    },
    {
      "cell_type": "code",
      "source": [
        "zeros*random_tensor"
      ],
      "metadata": {
        "colab": {
          "base_uri": "https://localhost:8080/"
        },
        "id": "n014wBT1-XJm",
        "outputId": "abee4cad-40f0-45f4-e4ba-678c44f7d56d"
      },
      "execution_count": null,
      "outputs": [
        {
          "output_type": "execute_result",
          "data": {
            "text/plain": [
              "tensor([[0., 0., 0., 0.],\n",
              "        [0., 0., 0., 0.],\n",
              "        [0., 0., 0., 0.]])"
            ]
          },
          "metadata": {},
          "execution_count": 32
        }
      ]
    },
    {
      "cell_type": "code",
      "source": [
        "# Create a tensor of all ones\n",
        "ones = torch.ones(size=(3, 4))\n",
        "\n",
        "ones"
      ],
      "metadata": {
        "colab": {
          "base_uri": "https://localhost:8080/"
        },
        "id": "2BoIY5as-dly",
        "outputId": "0d71ebc4-f9e9-4801-cfcf-4b5195d5db64"
      },
      "execution_count": null,
      "outputs": [
        {
          "output_type": "execute_result",
          "data": {
            "text/plain": [
              "tensor([[1., 1., 1., 1.],\n",
              "        [1., 1., 1., 1.],\n",
              "        [1., 1., 1., 1.]])"
            ]
          },
          "metadata": {},
          "execution_count": 33
        }
      ]
    },
    {
      "cell_type": "code",
      "source": [
        "ones.dtype"
      ],
      "metadata": {
        "colab": {
          "base_uri": "https://localhost:8080/"
        },
        "id": "LvvpV9zs_B5w",
        "outputId": "238ae49c-4fc0-4973-d016-0148f1b845e0"
      },
      "execution_count": null,
      "outputs": [
        {
          "output_type": "execute_result",
          "data": {
            "text/plain": [
              "torch.float32"
            ]
          },
          "metadata": {},
          "execution_count": 34
        }
      ]
    },
    {
      "cell_type": "markdown",
      "source": [
        "### Creating a range of tensors and tensors-like\n",
        "\n",
        "Documentation: https://pytorch.org/docs/stable/generated/torch.arange.html"
      ],
      "metadata": {
        "id": "h1z399iE_aR0"
      }
    },
    {
      "cell_type": "code",
      "source": [
        "# Use torch.arange()\n",
        "one_to_ten = torch.arange(1, 11)\n",
        "one_to_ten"
      ],
      "metadata": {
        "colab": {
          "base_uri": "https://localhost:8080/"
        },
        "id": "DZO3jnF2_GWv",
        "outputId": "fa4f3ad6-72af-447a-8a31-dc9836050373"
      },
      "execution_count": null,
      "outputs": [
        {
          "output_type": "execute_result",
          "data": {
            "text/plain": [
              "tensor([ 1,  2,  3,  4,  5,  6,  7,  8,  9, 10])"
            ]
          },
          "metadata": {},
          "execution_count": 35
        }
      ]
    },
    {
      "cell_type": "code",
      "source": [
        "# Use torch.arange() with step\n",
        "arrange_example = torch.arange(start=0, end=1000, step=77)\n",
        "arrange_example"
      ],
      "metadata": {
        "colab": {
          "base_uri": "https://localhost:8080/"
        },
        "id": "tEl8DAJp_L2C",
        "outputId": "81882039-1782-40ef-8f88-c5485c3acbdf"
      },
      "execution_count": null,
      "outputs": [
        {
          "output_type": "execute_result",
          "data": {
            "text/plain": [
              "tensor([  0,  77, 154, 231, 308, 385, 462, 539, 616, 693, 770, 847, 924])"
            ]
          },
          "metadata": {},
          "execution_count": 36
        }
      ]
    },
    {
      "cell_type": "code",
      "source": [
        "# Creating tensors like\n",
        "\n",
        "ten_zeros = torch.zeros_like(input=one_to_ten)\n",
        "one_to_ten, ten_zeros"
      ],
      "metadata": {
        "colab": {
          "base_uri": "https://localhost:8080/"
        },
        "id": "ZrmIaPsfAoRL",
        "outputId": "2dcb04b2-5a17-44ff-da22-e2f71dce586a"
      },
      "execution_count": null,
      "outputs": [
        {
          "output_type": "execute_result",
          "data": {
            "text/plain": [
              "(tensor([ 1,  2,  3,  4,  5,  6,  7,  8,  9, 10]),\n",
              " tensor([0, 0, 0, 0, 0, 0, 0, 0, 0, 0]))"
            ]
          },
          "metadata": {},
          "execution_count": 37
        }
      ]
    },
    {
      "cell_type": "code",
      "source": [
        "# Creating tensors like - example 2\n",
        "\n",
        "image_size_zeros_tensor = torch.zeros_like(input=random_image_size_tensor)\n",
        "random_image_size_tensor, image_size_zeros_tensor"
      ],
      "metadata": {
        "colab": {
          "base_uri": "https://localhost:8080/"
        },
        "id": "2QPki-IMBPcI",
        "outputId": "60e38527-2c0d-4e4a-9dd2-9b1b4f5e9894"
      },
      "execution_count": null,
      "outputs": [
        {
          "output_type": "execute_result",
          "data": {
            "text/plain": [
              "(tensor([[[0.3968, 0.5293, 0.4624,  ..., 0.7730, 0.5149, 0.6485],\n",
              "          [0.2646, 0.8114, 0.3970,  ..., 0.2501, 0.7599, 0.4473],\n",
              "          [0.8295, 0.3131, 0.2725,  ..., 0.8885, 0.1161, 0.2942],\n",
              "          ...,\n",
              "          [0.4027, 0.1440, 0.3965,  ..., 0.5026, 0.4072, 0.3234],\n",
              "          [0.5591, 0.2465, 0.0689,  ..., 0.9213, 0.6885, 0.7867],\n",
              "          [0.4022, 0.5523, 0.7707,  ..., 0.0931, 0.0137, 0.2451]],\n",
              " \n",
              "         [[0.4761, 0.9813, 0.5542,  ..., 0.0788, 0.1337, 0.5291],\n",
              "          [0.9127, 0.7382, 0.1196,  ..., 0.6513, 0.0036, 0.5265],\n",
              "          [0.9586, 0.7108, 0.3922,  ..., 0.3105, 0.3104, 0.3456],\n",
              "          ...,\n",
              "          [0.4604, 0.5994, 0.0798,  ..., 0.9912, 0.7971, 0.7559],\n",
              "          [0.9736, 0.7668, 0.9655,  ..., 0.8411, 0.6480, 0.1932],\n",
              "          [0.4445, 0.2233, 0.9157,  ..., 0.2474, 0.2136, 0.9622]],\n",
              " \n",
              "         [[0.4368, 0.4308, 0.5634,  ..., 0.9225, 0.2415, 0.1970],\n",
              "          [0.9093, 0.9946, 0.8010,  ..., 0.2340, 0.6789, 0.8115],\n",
              "          [0.8416, 0.2916, 0.0530,  ..., 0.8754, 0.2261, 0.8054],\n",
              "          ...,\n",
              "          [0.9045, 0.2133, 0.0432,  ..., 0.5719, 0.2013, 0.7806],\n",
              "          [0.5587, 0.8926, 0.1609,  ..., 0.7846, 0.6994, 0.3170],\n",
              "          [0.7374, 0.9674, 0.6567,  ..., 0.6075, 0.1962, 0.0807]]]),\n",
              " tensor([[[0., 0., 0.,  ..., 0., 0., 0.],\n",
              "          [0., 0., 0.,  ..., 0., 0., 0.],\n",
              "          [0., 0., 0.,  ..., 0., 0., 0.],\n",
              "          ...,\n",
              "          [0., 0., 0.,  ..., 0., 0., 0.],\n",
              "          [0., 0., 0.,  ..., 0., 0., 0.],\n",
              "          [0., 0., 0.,  ..., 0., 0., 0.]],\n",
              " \n",
              "         [[0., 0., 0.,  ..., 0., 0., 0.],\n",
              "          [0., 0., 0.,  ..., 0., 0., 0.],\n",
              "          [0., 0., 0.,  ..., 0., 0., 0.],\n",
              "          ...,\n",
              "          [0., 0., 0.,  ..., 0., 0., 0.],\n",
              "          [0., 0., 0.,  ..., 0., 0., 0.],\n",
              "          [0., 0., 0.,  ..., 0., 0., 0.]],\n",
              " \n",
              "         [[0., 0., 0.,  ..., 0., 0., 0.],\n",
              "          [0., 0., 0.,  ..., 0., 0., 0.],\n",
              "          [0., 0., 0.,  ..., 0., 0., 0.],\n",
              "          ...,\n",
              "          [0., 0., 0.,  ..., 0., 0., 0.],\n",
              "          [0., 0., 0.,  ..., 0., 0., 0.],\n",
              "          [0., 0., 0.,  ..., 0., 0., 0.]]]))"
            ]
          },
          "metadata": {},
          "execution_count": 38
        }
      ]
    },
    {
      "cell_type": "markdown",
      "source": [
        "### Tensor Datatypes\n",
        "\n",
        "**Documentation & Resources:**\n",
        "- https://pytorch.org/docs/stable/tensors.html\n",
        "- https://en.wikipedia.org/wiki/Precision_(computer_science)\n",
        "\n",
        "**Notes:**\n",
        "- float32 is the default datatype (32bits)\n",
        "- float16 is faster for numbers that take up less memory (16bits)\n",
        "- float64 is used for more detail in memory (64bits)\n",
        "- **Tensor datatypes is one of the 3 main errors you will encounter when using Pytorch & Deep Learning: 1) Tensors not right datatype, 2) Tensors not right shape, 3) Tensors not right device.**"
      ],
      "metadata": {
        "id": "qbLFruweCNV8"
      }
    },
    {
      "cell_type": "code",
      "source": [
        "# Float 32 tensor\n",
        "float_32_tensor = torch.tensor([3.0, 6.0, 9.0],\n",
        "                               dtype=None, # What datatype is the tensor? (Eg: \"float32\" or \"float16\")\n",
        "                               device=None, # What device is your tensor on? (Eg: \"cuda\", \"cpu\")\n",
        "                               requires_grad=False) # Whether or not to track gradients with the tensors operations\n",
        "float_32_tensor"
      ],
      "metadata": {
        "colab": {
          "base_uri": "https://localhost:8080/"
        },
        "id": "AAKzGhdaCNE-",
        "outputId": "9d1bc4e4-291a-4be6-aeb0-ed2bf3bbca1e"
      },
      "execution_count": null,
      "outputs": [
        {
          "output_type": "execute_result",
          "data": {
            "text/plain": [
              "tensor([3., 6., 9.])"
            ]
          },
          "metadata": {},
          "execution_count": 39
        }
      ]
    },
    {
      "cell_type": "code",
      "source": [
        "float_32_tensor.dtype"
      ],
      "metadata": {
        "colab": {
          "base_uri": "https://localhost:8080/"
        },
        "id": "MdRzaYP4CvtB",
        "outputId": "362589bb-7393-4798-bc14-abd10a09d4b3"
      },
      "execution_count": null,
      "outputs": [
        {
          "output_type": "execute_result",
          "data": {
            "text/plain": [
              "torch.float32"
            ]
          },
          "metadata": {},
          "execution_count": 40
        }
      ]
    },
    {
      "cell_type": "code",
      "source": [
        "# Float 16 tensor - using the same data from the above float32 tensor\n",
        "float_16_tensor = float_32_tensor.type(torch.float16)\n",
        "float_16_tensor"
      ],
      "metadata": {
        "colab": {
          "base_uri": "https://localhost:8080/"
        },
        "id": "wqZvnpm_C3Rc",
        "outputId": "308219d0-3211-446b-fadf-ebab3a2b1924"
      },
      "execution_count": null,
      "outputs": [
        {
          "output_type": "execute_result",
          "data": {
            "text/plain": [
              "tensor([3., 6., 9.], dtype=torch.float16)"
            ]
          },
          "metadata": {},
          "execution_count": 41
        }
      ]
    },
    {
      "cell_type": "code",
      "source": [
        "# Float 64 tensor\n",
        "float_64_tensor = torch.tensor([2.0, 4.0, 6.0, 8.0],\n",
        "                               dtype=torch.float64, # What datatype is the tensor? (Eg: \"float32\" or \"float16\")\n",
        "                               device=None, # What device is your tensor on? (Eg: \"cuda\", \"cpu\")\n",
        "                               requires_grad=False) # Whether or not to track gradients with the tensors operations\n",
        "float_64_tensor"
      ],
      "metadata": {
        "colab": {
          "base_uri": "https://localhost:8080/"
        },
        "id": "-qJiPTSUFk9X",
        "outputId": "d9014ad7-7a35-4598-bb04-6755b3f4365b"
      },
      "execution_count": null,
      "outputs": [
        {
          "output_type": "execute_result",
          "data": {
            "text/plain": [
              "tensor([2., 4., 6., 8.], dtype=torch.float64)"
            ]
          },
          "metadata": {},
          "execution_count": 42
        }
      ]
    },
    {
      "cell_type": "code",
      "source": [
        "float_16_tensor * float_32_tensor"
      ],
      "metadata": {
        "colab": {
          "base_uri": "https://localhost:8080/"
        },
        "id": "kLtmSfiQG24K",
        "outputId": "9773edbd-1c51-44a5-efba-a23fd7cd5e58"
      },
      "execution_count": null,
      "outputs": [
        {
          "output_type": "execute_result",
          "data": {
            "text/plain": [
              "tensor([ 9., 36., 81.])"
            ]
          },
          "metadata": {},
          "execution_count": 43
        }
      ]
    },
    {
      "cell_type": "code",
      "source": [
        "int_32_tensor = torch.tensor([3, 6, 9], dtype=torch.int32)\n",
        "int_32_tensor"
      ],
      "metadata": {
        "colab": {
          "base_uri": "https://localhost:8080/"
        },
        "id": "RaV_KmkoG8xk",
        "outputId": "3200c9de-e0ea-42a0-dce6-326ec7a39742"
      },
      "execution_count": null,
      "outputs": [
        {
          "output_type": "execute_result",
          "data": {
            "text/plain": [
              "tensor([3, 6, 9], dtype=torch.int32)"
            ]
          },
          "metadata": {},
          "execution_count": 44
        }
      ]
    },
    {
      "cell_type": "markdown",
      "source": [
        "### Getting information from tensors (Tensor Attributes)\n",
        "\n",
        "**3 Main Pytorch & Deep Learning Errors You May Encounter:**\n",
        "1. Tensors not right datatype - to get the datatype from a tensor, use `tensor.dtype`\n",
        "2. Tensors not right shape - to get the shape from a tensor, use `tensor.shape`\n",
        "3. Tensors not right device - to get the device from a tensor, use `tensor.device`\n"
      ],
      "metadata": {
        "id": "FlljzZAfIAeN"
      }
    },
    {
      "cell_type": "code",
      "source": [
        "# Create a tensor\n",
        "some_tensor = torch.rand(3, 4)\n",
        "some_tensor"
      ],
      "metadata": {
        "colab": {
          "base_uri": "https://localhost:8080/"
        },
        "id": "0vQOU5MOHcyD",
        "outputId": "96c4fb6f-1922-4b3f-dd57-3315a0bb81b9"
      },
      "execution_count": null,
      "outputs": [
        {
          "output_type": "execute_result",
          "data": {
            "text/plain": [
              "tensor([[0.1451, 0.3474, 0.7833, 0.2605],\n",
              "        [0.9117, 0.8394, 0.3508, 0.0428],\n",
              "        [0.5593, 0.1974, 0.3090, 0.3175]])"
            ]
          },
          "metadata": {},
          "execution_count": 45
        }
      ]
    },
    {
      "cell_type": "code",
      "source": [
        "# Find out details about some_tensor\n",
        "print(\"Tensor: \", some_tensor)\n",
        "print(f\"Datatype of tensor: {some_tensor.dtype}\") # float32 is default\n",
        "print(f\"Shape of tensor: {some_tensor.shape}\") # tensor was created using torch.rand(3, 4)\n",
        "print(f\"Device tensor is on: {some_tensor.device}\") # cpu is the default device"
      ],
      "metadata": {
        "colab": {
          "base_uri": "https://localhost:8080/"
        },
        "id": "QVUEKFa0Hi6d",
        "outputId": "902fa18c-3a94-4b3a-8b1e-7f35a4175503"
      },
      "execution_count": null,
      "outputs": [
        {
          "output_type": "stream",
          "name": "stdout",
          "text": [
            "Tensor:  tensor([[0.1451, 0.3474, 0.7833, 0.2605],\n",
            "        [0.9117, 0.8394, 0.3508, 0.0428],\n",
            "        [0.5593, 0.1974, 0.3090, 0.3175]])\n",
            "Datatype of tensor: torch.float32\n",
            "Shape of tensor: torch.Size([3, 4])\n",
            "Device tensor is on: cpu\n"
          ]
        }
      ]
    },
    {
      "cell_type": "code",
      "source": [
        "# Create test_tensor\n",
        "test_tensor = torch.rand((3, 4),\n",
        "                               dtype=torch.float64, # What datatype is the tensor? (Eg: torch.float32 or torch.float16)\n",
        "                               device='cpu', # What device is your tensor on? (Eg: \"cuda\", \"cpu\")\n",
        "                               requires_grad=False) # Whether or not to track gradients with the tensors operations\n",
        "\n",
        "# Find out details about test_tensor\n",
        "\n",
        "print(\"Tensor: \", test_tensor)\n",
        "print(f\"Datatype of tensor: {test_tensor.dtype}\") # tensor was created using float64 datatype\n",
        "print(f\"Shape of tensor: {test_tensor.shape}\") # tensor was created using torch.rand(3, 4)\n",
        "print(f\"Device tensor is on: {test_tensor.device}\") # tensor set to run on cpu"
      ],
      "metadata": {
        "colab": {
          "base_uri": "https://localhost:8080/"
        },
        "id": "I4emqp9nJmQr",
        "outputId": "0adb1178-95eb-4dd9-bb9d-b18af68660b0"
      },
      "execution_count": null,
      "outputs": [
        {
          "output_type": "stream",
          "name": "stdout",
          "text": [
            "Tensor:  tensor([[0.3281, 0.9698, 0.2358, 0.1994],\n",
            "        [0.0513, 0.6078, 0.1983, 0.4325],\n",
            "        [0.3789, 0.0382, 0.3223, 0.2850]], dtype=torch.float64)\n",
            "Datatype of tensor: torch.float64\n",
            "Shape of tensor: torch.Size([3, 4])\n",
            "Device tensor is on: cpu\n"
          ]
        }
      ]
    },
    {
      "cell_type": "markdown",
      "source": [
        "### Manipulating Tensors (tensor operations)\n",
        "\n",
        "Tensor operations include:\n",
        "- Addition\n",
        "- Subtraction\n",
        "- Multiplication\n",
        "- Division\n",
        "- Matrix multiplication"
      ],
      "metadata": {
        "id": "XXIT1CTfMqnq"
      }
    },
    {
      "cell_type": "code",
      "source": [
        "# Create a tensor and add 10 to it\n",
        "tensor123 = torch.tensor([1, 2, 3])\n",
        "tensor123 + 10"
      ],
      "metadata": {
        "colab": {
          "base_uri": "https://localhost:8080/"
        },
        "outputId": "383c4b97-cd0b-479b-ee7e-571a7829c092",
        "id": "C6q1Qy3aLCh-"
      },
      "execution_count": null,
      "outputs": [
        {
          "output_type": "execute_result",
          "data": {
            "text/plain": [
              "tensor([11, 12, 13])"
            ]
          },
          "metadata": {},
          "execution_count": 48
        }
      ]
    },
    {
      "cell_type": "code",
      "source": [
        "# Multiply tensor by 10\n",
        "tensor123 * 10"
      ],
      "metadata": {
        "colab": {
          "base_uri": "https://localhost:8080/"
        },
        "id": "xqBGfZUaUd0V",
        "outputId": "1c4bb379-a7bd-4f77-8287-2e4060a1cfee"
      },
      "execution_count": null,
      "outputs": [
        {
          "output_type": "execute_result",
          "data": {
            "text/plain": [
              "tensor([10, 20, 30])"
            ]
          },
          "metadata": {},
          "execution_count": 49
        }
      ]
    },
    {
      "cell_type": "code",
      "source": [
        "# Subtract 10 from tensor\n",
        "tensor123 - 10"
      ],
      "metadata": {
        "colab": {
          "base_uri": "https://localhost:8080/"
        },
        "id": "HYeubVCjUzNe",
        "outputId": "9c7314ca-b140-4b1c-f398-ffdeb58a1430"
      },
      "execution_count": null,
      "outputs": [
        {
          "output_type": "execute_result",
          "data": {
            "text/plain": [
              "tensor([-9, -8, -7])"
            ]
          },
          "metadata": {},
          "execution_count": 50
        }
      ]
    },
    {
      "cell_type": "code",
      "source": [
        "# Try out PyTorch in-built Functions (NOTE: Use standard python as above where possible)\n",
        "torch.mul(tensor123, 10)"
      ],
      "metadata": {
        "colab": {
          "base_uri": "https://localhost:8080/"
        },
        "id": "gkcxKPiNVDWN",
        "outputId": "c07019e1-05aa-45d5-c9d5-c12344a73812"
      },
      "execution_count": null,
      "outputs": [
        {
          "output_type": "execute_result",
          "data": {
            "text/plain": [
              "tensor([10, 20, 30])"
            ]
          },
          "metadata": {},
          "execution_count": 51
        }
      ]
    },
    {
      "cell_type": "code",
      "source": [
        "torch.add(tensor123, 10)"
      ],
      "metadata": {
        "colab": {
          "base_uri": "https://localhost:8080/"
        },
        "id": "3xQznRamVMB3",
        "outputId": "ef4f1fcb-3621-41c9-e24a-af59ee472b4e"
      },
      "execution_count": null,
      "outputs": [
        {
          "output_type": "execute_result",
          "data": {
            "text/plain": [
              "tensor([11, 12, 13])"
            ]
          },
          "metadata": {},
          "execution_count": 52
        }
      ]
    },
    {
      "cell_type": "markdown",
      "source": [
        "### Matrix Multiplication (VS Element Wise Multiplication)\n",
        "\n",
        "**There are two main ways of preforming multiplication in neural networks and deep learning:**\n",
        "1. Element-wise Multiplication\n",
        "2. Matrix Multiplication (Dot Product)\n",
        "\n",
        "Resources:\n",
        "- https://www.mathsisfun.com/algebra/matrix-multiplying.html\n",
        "- http://matrixmultiplication.xyz/\n",
        "\n",
        "There are two main rules that performing matrix multiplication needs to satisfy:\n",
        "1. The **inner dimensions** must match:\n",
        "* `(3, 2) @ (3, 2)` - This won't work\n",
        "* `(2, 3) @ (3, 2)` - This will work\n",
        "* `(3, 2) @ (2, 3)` - This will work\n",
        "* You can test this by replacing the following numbers and testing the code: `torch.matmul(torch.random(3, 2), torch.random(3, 2)`\n",
        "2. The resulting matrix has the shape of the **outer dimensions**:\n",
        "* `(2, 3) @ (3, 2)` -> `(2, 2)`\n",
        "* `(3, 2) @ (2, 3)` -> `(3, 3)`"
      ],
      "metadata": {
        "id": "QlT5WkZ3WNw_"
      }
    },
    {
      "cell_type": "code",
      "source": [
        "# Element Wise Multiplication\n",
        "print(tensor123, \"*\", tensor123)\n",
        "print(f\"Equals: {tensor123 * tensor123}\")"
      ],
      "metadata": {
        "colab": {
          "base_uri": "https://localhost:8080/"
        },
        "id": "7BQpz-6nVZxC",
        "outputId": "d169204f-473f-4ea3-95e8-9cc6f9dda744"
      },
      "execution_count": null,
      "outputs": [
        {
          "output_type": "stream",
          "name": "stdout",
          "text": [
            "tensor([1, 2, 3]) * tensor([1, 2, 3])\n",
            "Equals: tensor([1, 4, 9])\n"
          ]
        }
      ]
    },
    {
      "cell_type": "code",
      "source": [
        "# Matrix Multiplication\n",
        "torch.matmul(tensor123, tensor123)"
      ],
      "metadata": {
        "colab": {
          "base_uri": "https://localhost:8080/"
        },
        "id": "B5TMiUOfWMWu",
        "outputId": "4b65a24c-9cf2-424c-a494-b79e3db7326f"
      },
      "execution_count": null,
      "outputs": [
        {
          "output_type": "execute_result",
          "data": {
            "text/plain": [
              "tensor(14)"
            ]
          },
          "metadata": {},
          "execution_count": 54
        }
      ]
    },
    {
      "cell_type": "code",
      "source": [
        "# Matrix Multiplication By Hand - Example 1\n",
        "1 * 1 + 2 * 2 + 3 * 3"
      ],
      "metadata": {
        "colab": {
          "base_uri": "https://localhost:8080/"
        },
        "id": "kYZGrD71Z6Ve",
        "outputId": "0ababf61-edea-42f6-d17e-b88dcc2cf85d"
      },
      "execution_count": null,
      "outputs": [
        {
          "output_type": "execute_result",
          "data": {
            "text/plain": [
              "14"
            ]
          },
          "metadata": {},
          "execution_count": 55
        }
      ]
    },
    {
      "cell_type": "code",
      "source": [
        "# Matrix Multiplication By Hand - Example 2\n",
        "\n",
        "%%time\n",
        "value = 0\n",
        "for i in range(len(tensor123)):\n",
        "  value += tensor123[i] * tensor123[i]\n",
        "print(value)"
      ],
      "metadata": {
        "colab": {
          "base_uri": "https://localhost:8080/"
        },
        "id": "LCyYmXPPa2ct",
        "outputId": "42f71d1f-8834-4334-8e2b-0e4da666f220"
      },
      "execution_count": null,
      "outputs": [
        {
          "output_type": "stream",
          "name": "stdout",
          "text": [
            "tensor(14)\n",
            "CPU times: user 2.15 ms, sys: 58 µs, total: 2.21 ms\n",
            "Wall time: 4.72 ms\n"
          ]
        }
      ]
    },
    {
      "cell_type": "code",
      "source": [
        "# Test Time for PyTorch matmul to demonstrate how much faster it is\n",
        "\n",
        "%%time\n",
        "torch.matmul(tensor123, tensor123)"
      ],
      "metadata": {
        "colab": {
          "base_uri": "https://localhost:8080/"
        },
        "id": "rELWbbnsbQty",
        "outputId": "0ef84efa-9cc8-425c-9362-adf4874c74d2"
      },
      "execution_count": null,
      "outputs": [
        {
          "output_type": "stream",
          "name": "stdout",
          "text": [
            "CPU times: user 90 µs, sys: 13 µs, total: 103 µs\n",
            "Wall time: 109 µs\n"
          ]
        },
        {
          "output_type": "execute_result",
          "data": {
            "text/plain": [
              "tensor(14)"
            ]
          },
          "metadata": {},
          "execution_count": 57
        }
      ]
    },
    {
      "cell_type": "markdown",
      "source": [
        "### One of the most common errors in deep learning is: shape errors\n",
        "\n"
      ],
      "metadata": {
        "id": "fHL8C878cZBn"
      }
    },
    {
      "cell_type": "code",
      "source": [
        "# Shapes for matrix multiplication\n",
        "\n",
        "tensor_A = torch.tensor([[1, 2],\n",
        "                         [3, 4],\n",
        "                         [5, 6]])\n",
        "\n",
        "tensor_B = torch.tensor([[7, 10],\n",
        "                         [8, 11],\n",
        "                         [9, 12]])\n",
        "\n",
        "# torch.mm is the same as torch.matmul, it's an alias for writing less code\n",
        "torch.mm(tensor_A, tensor_B)"
      ],
      "metadata": {
        "colab": {
          "base_uri": "https://localhost:8080/",
          "height": 176
        },
        "id": "XeSGd2qYbx5r",
        "outputId": "1e4060c4-47c1-4d6e-f5e0-21fd926ba082"
      },
      "execution_count": null,
      "outputs": [
        {
          "output_type": "error",
          "ename": "RuntimeError",
          "evalue": "mat1 and mat2 shapes cannot be multiplied (3x2 and 3x2)",
          "traceback": [
            "\u001b[0;31m---------------------------------------------------------------------------\u001b[0m",
            "\u001b[0;31mRuntimeError\u001b[0m                              Traceback (most recent call last)",
            "\u001b[0;32m<ipython-input-58-4515970ac9a3>\u001b[0m in \u001b[0;36m<cell line: 12>\u001b[0;34m()\u001b[0m\n\u001b[1;32m     10\u001b[0m \u001b[0;34m\u001b[0m\u001b[0m\n\u001b[1;32m     11\u001b[0m \u001b[0;31m# torch.mm is the same as torch.matmul, it's an alias for writing less code\u001b[0m\u001b[0;34m\u001b[0m\u001b[0;34m\u001b[0m\u001b[0m\n\u001b[0;32m---> 12\u001b[0;31m \u001b[0mtorch\u001b[0m\u001b[0;34m.\u001b[0m\u001b[0mmm\u001b[0m\u001b[0;34m(\u001b[0m\u001b[0mtensor_A\u001b[0m\u001b[0;34m,\u001b[0m \u001b[0mtensor_B\u001b[0m\u001b[0;34m)\u001b[0m\u001b[0;34m\u001b[0m\u001b[0;34m\u001b[0m\u001b[0m\n\u001b[0m",
            "\u001b[0;31mRuntimeError\u001b[0m: mat1 and mat2 shapes cannot be multiplied (3x2 and 3x2)"
          ]
        }
      ]
    },
    {
      "cell_type": "code",
      "source": [
        "# Check shape of tensors (as the above code does not work and gets an error)\n",
        "tensor_A.shape, tensor_B.shape"
      ],
      "metadata": {
        "colab": {
          "base_uri": "https://localhost:8080/"
        },
        "id": "YZT0L0Ighj6D",
        "outputId": "41ff5e33-9f36-4430-a723-d970af011418"
      },
      "execution_count": null,
      "outputs": [
        {
          "output_type": "execute_result",
          "data": {
            "text/plain": [
              "(torch.Size([3, 2]), torch.Size([3, 2]))"
            ]
          },
          "metadata": {},
          "execution_count": 59
        }
      ]
    },
    {
      "cell_type": "markdown",
      "source": [
        "To fix the shape issues, we can manipulate the shape of one of the tensors using a **transpose**.\n",
        "\n",
        "A **transpose** switches the axis or dimensions of a given tensor."
      ],
      "metadata": {
        "id": "Gami7tpmihMo"
      }
    },
    {
      "cell_type": "code",
      "source": [
        "# Original Tensor B & Shape\n",
        "tensor_B, tensor_B.shape"
      ],
      "metadata": {
        "colab": {
          "base_uri": "https://localhost:8080/"
        },
        "id": "gNJbfLYkjXoD",
        "outputId": "7b2df44f-338b-497c-d4f0-1fdbc5ada172"
      },
      "execution_count": null,
      "outputs": [
        {
          "output_type": "execute_result",
          "data": {
            "text/plain": [
              "(tensor([[ 7, 10],\n",
              "         [ 8, 11],\n",
              "         [ 9, 12]]),\n",
              " torch.Size([3, 2]))"
            ]
          },
          "metadata": {},
          "execution_count": 60
        }
      ]
    },
    {
      "cell_type": "code",
      "source": [
        "# Transpose Tensor B & Display Updated Shape\n",
        "tensor_B.T, tensor_B.T.shape"
      ],
      "metadata": {
        "colab": {
          "base_uri": "https://localhost:8080/"
        },
        "id": "ZGARBNBJiWpD",
        "outputId": "351bf32e-4f28-4a9f-88bc-503e0869a210"
      },
      "execution_count": null,
      "outputs": [
        {
          "output_type": "execute_result",
          "data": {
            "text/plain": [
              "(tensor([[ 7,  8,  9],\n",
              "         [10, 11, 12]]),\n",
              " torch.Size([2, 3]))"
            ]
          },
          "metadata": {},
          "execution_count": 61
        }
      ]
    },
    {
      "cell_type": "code",
      "source": [
        "# Use Tranpose to resolve the matmul shape error\n",
        "print(f\"Original Shapes: tensor_A = {tensor_A.shape}, tensor_B = {tensor_B.shape}\\n\")\n",
        "print(f\"New Shapes: tensor_A = {tensor_A.shape}, tensor_B.T = {tensor_B.T.shape}\\n\")\n",
        "print(f\"Multiplying: {tensor_A.shape} @ {tensor_B.T.shape} <- inner dimensions must match\")\n",
        "print(\"\\nOutput:\")\n",
        "output = torch.matmul(tensor_A, tensor_B.T)\n",
        "print(output)\n",
        "print(f\"\\nOutput Shape: {output.shape}\")\n"
      ],
      "metadata": {
        "colab": {
          "base_uri": "https://localhost:8080/"
        },
        "id": "qT-SmUaCjHTS",
        "outputId": "2bb969a7-97bf-4712-e72e-c0db9e34069d"
      },
      "execution_count": null,
      "outputs": [
        {
          "output_type": "stream",
          "name": "stdout",
          "text": [
            "Original Shapes: tensor_A = torch.Size([3, 2]), tensor_B = torch.Size([3, 2])\n",
            "\n",
            "New Shapes: tensor_A = torch.Size([3, 2]), tensor_B.T = torch.Size([2, 3])\n",
            "\n",
            "Multiplying: torch.Size([3, 2]) @ torch.Size([2, 3]) <- inner dimensions must match\n",
            "\n",
            "Output:\n",
            "tensor([[ 27,  30,  33],\n",
            "        [ 61,  68,  75],\n",
            "        [ 95, 106, 117]])\n",
            "\n",
            "Output Shape: torch.Size([3, 3])\n"
          ]
        }
      ]
    },
    {
      "cell_type": "code",
      "source": [
        "# Check Shape\n",
        "torch.mm(tensor_A, tensor_B.T).shape"
      ],
      "metadata": {
        "colab": {
          "base_uri": "https://localhost:8080/"
        },
        "id": "X5mUv3IDkDA0",
        "outputId": "3c104edc-58b4-4a50-888c-06495d35cc6a"
      },
      "execution_count": null,
      "outputs": [
        {
          "output_type": "execute_result",
          "data": {
            "text/plain": [
              "torch.Size([3, 3])"
            ]
          },
          "metadata": {},
          "execution_count": 63
        }
      ]
    },
    {
      "cell_type": "markdown",
      "source": [
        "## Finding  the min, max, mean, sum, etc (tensor aggregation)\n",
        "\n"
      ],
      "metadata": {
        "id": "ocRZSBs2ndLz"
      }
    },
    {
      "cell_type": "code",
      "source": [
        "# Create a tensor\n",
        "x = torch.arange(0, 100, 10) # start, end, step\n",
        "x"
      ],
      "metadata": {
        "colab": {
          "base_uri": "https://localhost:8080/"
        },
        "id": "qDFvega7kZcz",
        "outputId": "43721995-e286-4ab4-dd72-01a3d531ca9b"
      },
      "execution_count": null,
      "outputs": [
        {
          "output_type": "execute_result",
          "data": {
            "text/plain": [
              "tensor([ 0, 10, 20, 30, 40, 50, 60, 70, 80, 90])"
            ]
          },
          "metadata": {},
          "execution_count": 64
        }
      ]
    },
    {
      "cell_type": "code",
      "source": [
        "# Find the min\n",
        "torch.min(x), x.min()"
      ],
      "metadata": {
        "colab": {
          "base_uri": "https://localhost:8080/"
        },
        "id": "TmhcC1t7IUst",
        "outputId": "09dae55d-c09c-49f4-f9cd-bf11cf4edfd1"
      },
      "execution_count": null,
      "outputs": [
        {
          "output_type": "execute_result",
          "data": {
            "text/plain": [
              "(tensor(0), tensor(0))"
            ]
          },
          "metadata": {},
          "execution_count": 65
        }
      ]
    },
    {
      "cell_type": "code",
      "source": [
        "# Find the max\n",
        "torch.max(x), x.max()"
      ],
      "metadata": {
        "colab": {
          "base_uri": "https://localhost:8080/"
        },
        "id": "cm8m5D_6ItMV",
        "outputId": "c5661f4e-731a-4235-9f17-91b6bbc5ead4"
      },
      "execution_count": null,
      "outputs": [
        {
          "output_type": "execute_result",
          "data": {
            "text/plain": [
              "(tensor(90), tensor(90))"
            ]
          },
          "metadata": {},
          "execution_count": 66
        }
      ]
    },
    {
      "cell_type": "code",
      "source": [
        "# Find the mean (Example with the datatype runtime error)\n",
        "torch.mean(x)"
      ],
      "metadata": {
        "colab": {
          "base_uri": "https://localhost:8080/",
          "height": 159
        },
        "id": "Ufnwt6IgJEAI",
        "outputId": "9f7a98e9-fb11-4f82-f555-ddc0b331959d"
      },
      "execution_count": null,
      "outputs": [
        {
          "output_type": "error",
          "ename": "RuntimeError",
          "evalue": "mean(): could not infer output dtype. Input dtype must be either a floating point or complex dtype. Got: Long",
          "traceback": [
            "\u001b[0;31m---------------------------------------------------------------------------\u001b[0m",
            "\u001b[0;31mRuntimeError\u001b[0m                              Traceback (most recent call last)",
            "\u001b[0;32m<ipython-input-67-9639ea3eff24>\u001b[0m in \u001b[0;36m<cell line: 2>\u001b[0;34m()\u001b[0m\n\u001b[1;32m      1\u001b[0m \u001b[0;31m# Find the mean (Example with the datatype runtime error)\u001b[0m\u001b[0;34m\u001b[0m\u001b[0;34m\u001b[0m\u001b[0m\n\u001b[0;32m----> 2\u001b[0;31m \u001b[0mtorch\u001b[0m\u001b[0;34m.\u001b[0m\u001b[0mmean\u001b[0m\u001b[0;34m(\u001b[0m\u001b[0mx\u001b[0m\u001b[0;34m)\u001b[0m\u001b[0;34m\u001b[0m\u001b[0;34m\u001b[0m\u001b[0m\n\u001b[0m",
            "\u001b[0;31mRuntimeError\u001b[0m: mean(): could not infer output dtype. Input dtype must be either a floating point or complex dtype. Got: Long"
          ]
        }
      ]
    },
    {
      "cell_type": "code",
      "source": [
        "# Solution for above dtype error\n",
        "\n",
        "# Check the datatype for x\n",
        "x.dtype"
      ],
      "metadata": {
        "colab": {
          "base_uri": "https://localhost:8080/"
        },
        "id": "Ay9Bk2CnKT58",
        "outputId": "ee4f4974-8fa6-4c42-eb4e-e08305ec7bbf"
      },
      "execution_count": null,
      "outputs": [
        {
          "output_type": "execute_result",
          "data": {
            "text/plain": [
              "torch.int64"
            ]
          },
          "metadata": {},
          "execution_count": 68
        }
      ]
    },
    {
      "cell_type": "code",
      "source": [
        "# The datatype is int64. The datatype error states the dtype be floating point or complex. Got: Long.\n",
        "\n",
        "# Convert the dtype to float32 to resolve the dtype error\n",
        "torch.mean(x.type(torch.float32))"
      ],
      "metadata": {
        "colab": {
          "base_uri": "https://localhost:8080/"
        },
        "id": "RdxrIr8fKebJ",
        "outputId": "75b6aa19-f372-4695-bafa-7cdba2460b7a"
      },
      "execution_count": null,
      "outputs": [
        {
          "output_type": "execute_result",
          "data": {
            "text/plain": [
              "tensor(45.)"
            ]
          },
          "metadata": {},
          "execution_count": 69
        }
      ]
    },
    {
      "cell_type": "code",
      "source": [
        "x.type(torch.float32).mean()"
      ],
      "metadata": {
        "colab": {
          "base_uri": "https://localhost:8080/"
        },
        "id": "rnfLcPTFLN-6",
        "outputId": "a93be409-5184-4864-b09b-1a713e250c5b"
      },
      "execution_count": null,
      "outputs": [
        {
          "output_type": "execute_result",
          "data": {
            "text/plain": [
              "tensor(45.)"
            ]
          },
          "metadata": {},
          "execution_count": 70
        }
      ]
    },
    {
      "cell_type": "code",
      "source": [
        "# Find the sum\n",
        "torch.sum(x), x.sum()"
      ],
      "metadata": {
        "colab": {
          "base_uri": "https://localhost:8080/"
        },
        "id": "BNLZRdBULXnC",
        "outputId": "a26c4434-9888-4efa-a94f-3f1a0be1b93b"
      },
      "execution_count": null,
      "outputs": [
        {
          "output_type": "execute_result",
          "data": {
            "text/plain": [
              "(tensor(450), tensor(450))"
            ]
          },
          "metadata": {},
          "execution_count": 71
        }
      ]
    },
    {
      "cell_type": "markdown",
      "source": [
        "### Finding the positional min and max\n",
        "\n"
      ],
      "metadata": {
        "id": "miRDR-azMM-i"
      }
    },
    {
      "cell_type": "code",
      "source": [
        "# Create a tensor\n",
        "x1 = torch.arange(1, 101, 10) # start, end, step\n",
        "x1"
      ],
      "metadata": {
        "colab": {
          "base_uri": "https://localhost:8080/"
        },
        "id": "nDs0PMh6LugL",
        "outputId": "2dae4968-f1d0-4b45-f3b4-c6b66c619e6b"
      },
      "execution_count": null,
      "outputs": [
        {
          "output_type": "execute_result",
          "data": {
            "text/plain": [
              "tensor([ 1, 11, 21, 31, 41, 51, 61, 71, 81, 91])"
            ]
          },
          "metadata": {},
          "execution_count": 72
        }
      ]
    },
    {
      "cell_type": "code",
      "source": [
        "# Find the position in tensor that has the minimum value with argmin() -> returns index position of target tensor where the minimimum value occurs\n",
        "x1.argmin()"
      ],
      "metadata": {
        "colab": {
          "base_uri": "https://localhost:8080/"
        },
        "id": "8IQOojmUMUCH",
        "outputId": "4fbe336e-6486-41e8-fad8-98ed8f2e77ca"
      },
      "execution_count": null,
      "outputs": [
        {
          "output_type": "execute_result",
          "data": {
            "text/plain": [
              "tensor(0)"
            ]
          },
          "metadata": {},
          "execution_count": 73
        }
      ]
    },
    {
      "cell_type": "code",
      "source": [
        "x1[0]"
      ],
      "metadata": {
        "colab": {
          "base_uri": "https://localhost:8080/"
        },
        "id": "fHLfDu20MZCx",
        "outputId": "27192e4f-603a-4661-aa67-46de71186202"
      },
      "execution_count": null,
      "outputs": [
        {
          "output_type": "execute_result",
          "data": {
            "text/plain": [
              "tensor(1)"
            ]
          },
          "metadata": {},
          "execution_count": 74
        }
      ]
    },
    {
      "cell_type": "code",
      "source": [
        "# Find the position in tensor that has the maximum value with argmax()\n",
        "x1.argmax()"
      ],
      "metadata": {
        "colab": {
          "base_uri": "https://localhost:8080/"
        },
        "id": "8sC_Oe-UMbJF",
        "outputId": "23c1bde5-33d7-4634-a8b0-92026f515b45"
      },
      "execution_count": null,
      "outputs": [
        {
          "output_type": "execute_result",
          "data": {
            "text/plain": [
              "tensor(9)"
            ]
          },
          "metadata": {},
          "execution_count": 75
        }
      ]
    },
    {
      "cell_type": "code",
      "source": [
        "# Find the value for the 9th position of the tensor\n",
        "x1[9]"
      ],
      "metadata": {
        "colab": {
          "base_uri": "https://localhost:8080/"
        },
        "id": "gEUBx7z4NQ4S",
        "outputId": "b56debc4-3f7b-4261-8e1a-d26add231213"
      },
      "execution_count": null,
      "outputs": [
        {
          "output_type": "execute_result",
          "data": {
            "text/plain": [
              "tensor(91)"
            ]
          },
          "metadata": {},
          "execution_count": 76
        }
      ]
    },
    {
      "cell_type": "markdown",
      "source": [
        "## Reshaping stacking, squeezing and unsqueezing tensors\n",
        "\n",
        "* Reshaping - reshapes an input tensor to a defined shape\n",
        "* View - return a view of an input tensor of certain shape but keep the same memory as the original tensor\n",
        "* Stacking - combine multiple tensors on top of each other (vstack) or side by side (hstack)\n",
        "* Squeeze - removes all `1` dimensions from a tensor\n",
        "* Unsqueeze - add a `1` dimension to a target tensor\n",
        "* Permute - return a view of the input with dimension permuted (swapped) in a certain way"
      ],
      "metadata": {
        "id": "r997W9PmOPqQ"
      }
    },
    {
      "cell_type": "code",
      "source": [
        "# Create a tensor\n",
        "import torch\n",
        "x2 = torch.arange(1., 10.)\n",
        "x2, x2.shape"
      ],
      "metadata": {
        "colab": {
          "base_uri": "https://localhost:8080/"
        },
        "id": "17su3EIBNUId",
        "outputId": "b441355a-9cf0-4b02-c0c9-0d4f40f63026"
      },
      "execution_count": null,
      "outputs": [
        {
          "output_type": "execute_result",
          "data": {
            "text/plain": [
              "(tensor([1., 2., 3., 4., 5., 6., 7., 8., 9.]), torch.Size([9]))"
            ]
          },
          "metadata": {},
          "execution_count": 77
        }
      ]
    },
    {
      "cell_type": "code",
      "source": [
        "# Add an extra dimension\n",
        "x_reshaped = x2.reshape(1, 9)\n",
        "x_reshaped, x_reshaped.shape"
      ],
      "metadata": {
        "colab": {
          "base_uri": "https://localhost:8080/"
        },
        "id": "5CRAnid1bB3_",
        "outputId": "6c84db16-e30e-4708-ae0c-5ec9a14c9c2d"
      },
      "execution_count": null,
      "outputs": [
        {
          "output_type": "execute_result",
          "data": {
            "text/plain": [
              "(tensor([[1., 2., 3., 4., 5., 6., 7., 8., 9.]]), torch.Size([1, 9]))"
            ]
          },
          "metadata": {},
          "execution_count": 78
        }
      ]
    },
    {
      "cell_type": "code",
      "source": [
        "# Add an extra dimension - example 2\n",
        "x_reshaped2 = x2.reshape(9, 1)\n",
        "x_reshaped2, x_reshaped2.shape"
      ],
      "metadata": {
        "colab": {
          "base_uri": "https://localhost:8080/"
        },
        "id": "stRvISYnbRZC",
        "outputId": "c40be558-a4ef-4d86-9ccf-c52eac2895aa"
      },
      "execution_count": null,
      "outputs": [
        {
          "output_type": "execute_result",
          "data": {
            "text/plain": [
              "(tensor([[1.],\n",
              "         [2.],\n",
              "         [3.],\n",
              "         [4.],\n",
              "         [5.],\n",
              "         [6.],\n",
              "         [7.],\n",
              "         [8.],\n",
              "         [9.]]),\n",
              " torch.Size([9, 1]))"
            ]
          },
          "metadata": {},
          "execution_count": 79
        }
      ]
    },
    {
      "cell_type": "code",
      "source": [
        "# Change the view\n",
        "z = x2.view(1, 9)\n",
        "z, z.shape"
      ],
      "metadata": {
        "colab": {
          "base_uri": "https://localhost:8080/"
        },
        "id": "KomdaL8fb3mF",
        "outputId": "8f2aadfe-2619-4fc8-cac4-bae77ab0cd79"
      },
      "execution_count": null,
      "outputs": [
        {
          "output_type": "execute_result",
          "data": {
            "text/plain": [
              "(tensor([[1., 2., 3., 4., 5., 6., 7., 8., 9.]]), torch.Size([1, 9]))"
            ]
          },
          "metadata": {},
          "execution_count": 80
        }
      ]
    },
    {
      "cell_type": "code",
      "source": [
        "# Changing z changez x (because a view of a tensor shares the same memory as the original)\n",
        "z[:, 0] = 5\n",
        "z, x2"
      ],
      "metadata": {
        "colab": {
          "base_uri": "https://localhost:8080/"
        },
        "id": "DnAuqynqcaSX",
        "outputId": "1923d81c-fdc9-484d-a18a-ce03ad1f6c76"
      },
      "execution_count": null,
      "outputs": [
        {
          "output_type": "execute_result",
          "data": {
            "text/plain": [
              "(tensor([[5., 2., 3., 4., 5., 6., 7., 8., 9.]]),\n",
              " tensor([5., 2., 3., 4., 5., 6., 7., 8., 9.]))"
            ]
          },
          "metadata": {},
          "execution_count": 81
        }
      ]
    },
    {
      "cell_type": "code",
      "source": [
        "# Stack tensors on top of each other\n",
        "x_stacked = torch.stack([x2, x2, x2, x2], dim=0)\n",
        "x_stacked"
      ],
      "metadata": {
        "colab": {
          "base_uri": "https://localhost:8080/"
        },
        "id": "Wo_wM9TAcx_l",
        "outputId": "ca1d6f43-d4a4-4ff9-9bd2-66f131b45dc3"
      },
      "execution_count": null,
      "outputs": [
        {
          "output_type": "execute_result",
          "data": {
            "text/plain": [
              "tensor([[5., 2., 3., 4., 5., 6., 7., 8., 9.],\n",
              "        [5., 2., 3., 4., 5., 6., 7., 8., 9.],\n",
              "        [5., 2., 3., 4., 5., 6., 7., 8., 9.],\n",
              "        [5., 2., 3., 4., 5., 6., 7., 8., 9.]])"
            ]
          },
          "metadata": {},
          "execution_count": 82
        }
      ]
    },
    {
      "cell_type": "code",
      "source": [
        "# Using torch.squeeze()\n",
        "x_reshaped, x_reshaped.shape"
      ],
      "metadata": {
        "colab": {
          "base_uri": "https://localhost:8080/"
        },
        "id": "f20260jqdZ4H",
        "outputId": "e8afa59d-4cbd-4473-a6d7-6be2342539cd"
      },
      "execution_count": null,
      "outputs": [
        {
          "output_type": "execute_result",
          "data": {
            "text/plain": [
              "(tensor([[5., 2., 3., 4., 5., 6., 7., 8., 9.]]), torch.Size([1, 9]))"
            ]
          },
          "metadata": {},
          "execution_count": 83
        }
      ]
    },
    {
      "cell_type": "code",
      "source": [
        "x_reshaped.squeeze(), x_reshaped.squeeze().shape"
      ],
      "metadata": {
        "colab": {
          "base_uri": "https://localhost:8080/"
        },
        "id": "k39h755Eefp1",
        "outputId": "8f7d8f5c-09d0-43ab-fc97-25fca862d530"
      },
      "execution_count": null,
      "outputs": [
        {
          "output_type": "execute_result",
          "data": {
            "text/plain": [
              "(tensor([5., 2., 3., 4., 5., 6., 7., 8., 9.]), torch.Size([9]))"
            ]
          },
          "metadata": {},
          "execution_count": 84
        }
      ]
    },
    {
      "cell_type": "code",
      "source": [
        "x_squeezed = x_reshaped.squeeze()\n",
        "x_squeezed"
      ],
      "metadata": {
        "colab": {
          "base_uri": "https://localhost:8080/"
        },
        "id": "zn_ZvpKBhchD",
        "outputId": "8d6731c1-3605-49ac-81dd-9f401047deec"
      },
      "execution_count": null,
      "outputs": [
        {
          "output_type": "execute_result",
          "data": {
            "text/plain": [
              "tensor([5., 2., 3., 4., 5., 6., 7., 8., 9.])"
            ]
          },
          "metadata": {},
          "execution_count": 85
        }
      ]
    },
    {
      "cell_type": "code",
      "source": [
        "# torch.squeeze() -> removes all single dimensions from a target tensor\n",
        "print(f\"Previous Tensor: {x_reshaped}\")\n",
        "print(f\"Previous Shape: {x_reshaped.shape}\")\n",
        "\n",
        "# Remove extra dimensions from x_reshaped\n",
        "print(f\"\\nNew Tensor: {x_squeezed}\")\n",
        "print(f\"New Shape: {x_squeezed.shape}\")"
      ],
      "metadata": {
        "colab": {
          "base_uri": "https://localhost:8080/"
        },
        "id": "wa2clOrKeoQO",
        "outputId": "bba97b92-2cfd-47e2-8935-a3e0cd32a7d7"
      },
      "execution_count": null,
      "outputs": [
        {
          "output_type": "stream",
          "name": "stdout",
          "text": [
            "Previous Tensor: tensor([[5., 2., 3., 4., 5., 6., 7., 8., 9.]])\n",
            "Previous Shape: torch.Size([1, 9])\n",
            "\n",
            "New Tensor: tensor([5., 2., 3., 4., 5., 6., 7., 8., 9.])\n",
            "New Shape: torch.Size([9])\n"
          ]
        }
      ]
    },
    {
      "cell_type": "code",
      "source": [
        "# torch.unsqueeze() -> adds a single dimension to a target tensor at a specific dim (dimension)\n",
        "print(f\"Previous Tensor: {x_squeezed}\")\n",
        "print(f\"Previous Shape: {x_squeezed.shape}\")\n",
        "\n",
        "# Add an extra dimension with unsqueeze\n",
        "x_unsqueezed = x_squeezed.unsqueeze(dim=0)\n",
        "print(f\"\\nNew Tensor: {x_unsqueezed}\")\n",
        "print(f\"New Shape: {x_unsqueezed.shape}\")"
      ],
      "metadata": {
        "colab": {
          "base_uri": "https://localhost:8080/"
        },
        "id": "DZjJQEV3gBPp",
        "outputId": "89907773-0084-4bee-ef6d-cd9fc3226341"
      },
      "execution_count": null,
      "outputs": [
        {
          "output_type": "stream",
          "name": "stdout",
          "text": [
            "Previous Tensor: tensor([5., 2., 3., 4., 5., 6., 7., 8., 9.])\n",
            "Previous Shape: torch.Size([9])\n",
            "\n",
            "New Tensor: tensor([[5., 2., 3., 4., 5., 6., 7., 8., 9.]])\n",
            "New Shape: torch.Size([1, 9])\n"
          ]
        }
      ]
    },
    {
      "cell_type": "code",
      "source": [
        "# torch.permute() -> rearranges the dimensions of a target tensor in a specified order\n",
        "x_original = torch.rand(size=(224, 224, 3)) # [height, width, colour_channels]\n",
        "\n",
        "# Permute the original tensor to rearrange the axis (or dim) order\n",
        "x_permuted = x_original.permute(2, 0, 1) # shifts axis 0 to 1, axis 1 to 2, axis 2 to 0\n",
        "\n",
        "print(f\"Previous Shape: {x_original.shape}\") # [height, width, colour_channels]\n",
        "print(f\"New Shape: {x_permuted.shape}\") # [colour_channels, height, width]\n"
      ],
      "metadata": {
        "colab": {
          "base_uri": "https://localhost:8080/"
        },
        "id": "l6LBWdbIiMUO",
        "outputId": "3f7d8194-d5ac-4302-e857-27021ed43ddd"
      },
      "execution_count": null,
      "outputs": [
        {
          "output_type": "stream",
          "name": "stdout",
          "text": [
            "Previous Shape: torch.Size([224, 224, 3])\n",
            "New Shape: torch.Size([3, 224, 224])\n"
          ]
        }
      ]
    },
    {
      "cell_type": "markdown",
      "source": [
        "## Indexing (selecting data from tensors)\n",
        "\n",
        "Indexing with PyTorch is similar to indexing data with NumPy."
      ],
      "metadata": {
        "id": "q4fRfWNJl0Ia"
      }
    },
    {
      "cell_type": "code",
      "source": [
        "# Import Torch\n",
        "import torch\n",
        "\n",
        "# Create a Tensor\n",
        "x = torch.arange(1, 10).reshape(1, 3, 3)\n",
        "x, x.shape"
      ],
      "metadata": {
        "colab": {
          "base_uri": "https://localhost:8080/"
        },
        "id": "u1RDGCu8lhXi",
        "outputId": "b1a1dd9e-78c6-41da-e9b4-d19acf4a1640"
      },
      "execution_count": null,
      "outputs": [
        {
          "output_type": "execute_result",
          "data": {
            "text/plain": [
              "(tensor([[[1, 2, 3],\n",
              "          [4, 5, 6],\n",
              "          [7, 8, 9]]]),\n",
              " torch.Size([1, 3, 3]))"
            ]
          },
          "metadata": {},
          "execution_count": 89
        }
      ]
    },
    {
      "cell_type": "code",
      "source": [
        "# Let's index on our new tensor\n",
        "x[0]"
      ],
      "metadata": {
        "colab": {
          "base_uri": "https://localhost:8080/"
        },
        "id": "9jslCkqomT-L",
        "outputId": "f8eb09fa-c341-4709-f506-f674b2893971"
      },
      "execution_count": null,
      "outputs": [
        {
          "output_type": "execute_result",
          "data": {
            "text/plain": [
              "tensor([[1, 2, 3],\n",
              "        [4, 5, 6],\n",
              "        [7, 8, 9]])"
            ]
          },
          "metadata": {},
          "execution_count": 90
        }
      ]
    },
    {
      "cell_type": "code",
      "source": [
        "# Let's index on the middle bracket of our new tensor (dimension 1: dim=1)\n",
        "x[0][0]"
      ],
      "metadata": {
        "colab": {
          "base_uri": "https://localhost:8080/"
        },
        "id": "vEnw9kvFmzT7",
        "outputId": "0892218a-5366-45ae-c7d7-86088ef0a30c"
      },
      "execution_count": null,
      "outputs": [
        {
          "output_type": "execute_result",
          "data": {
            "text/plain": [
              "tensor([1, 2, 3])"
            ]
          },
          "metadata": {},
          "execution_count": 91
        }
      ]
    },
    {
      "cell_type": "code",
      "source": [
        "x[0, 0]"
      ],
      "metadata": {
        "colab": {
          "base_uri": "https://localhost:8080/"
        },
        "id": "Q4yzkigVnLMc",
        "outputId": "03e248df-e8d9-4136-b291-4a126b6b78a3"
      },
      "execution_count": null,
      "outputs": [
        {
          "output_type": "execute_result",
          "data": {
            "text/plain": [
              "tensor([1, 2, 3])"
            ]
          },
          "metadata": {},
          "execution_count": 92
        }
      ]
    },
    {
      "cell_type": "code",
      "source": [
        "# Let's index on the most inner bracket (last dimension)\n",
        "x[0][0][0]\n"
      ],
      "metadata": {
        "colab": {
          "base_uri": "https://localhost:8080/"
        },
        "id": "1Oo91qN9nNgJ",
        "outputId": "c668b509-f99c-4178-bd52-6c85ec9507e6"
      },
      "execution_count": null,
      "outputs": [
        {
          "output_type": "execute_result",
          "data": {
            "text/plain": [
              "tensor(1)"
            ]
          },
          "metadata": {},
          "execution_count": 93
        }
      ]
    },
    {
      "cell_type": "code",
      "source": [
        "# Test Example: Display number 6 from the above example\n",
        "\n",
        "x[0][1][2]"
      ],
      "metadata": {
        "colab": {
          "base_uri": "https://localhost:8080/"
        },
        "id": "wL7eBuHpngT-",
        "outputId": "985d1977-3f09-482e-d8c6-b40e56a79d64"
      },
      "execution_count": null,
      "outputs": [
        {
          "output_type": "execute_result",
          "data": {
            "text/plain": [
              "tensor(6)"
            ]
          },
          "metadata": {},
          "execution_count": 94
        }
      ]
    },
    {
      "cell_type": "code",
      "source": [
        "# Test Example 2: Display number 8 from the above example\n",
        "\n",
        "x[0][2][1]"
      ],
      "metadata": {
        "colab": {
          "base_uri": "https://localhost:8080/"
        },
        "id": "BIvsjv6GoSym",
        "outputId": "2b10c926-435a-4364-e741-fb6340a0cc9d"
      },
      "execution_count": null,
      "outputs": [
        {
          "output_type": "execute_result",
          "data": {
            "text/plain": [
              "tensor(8)"
            ]
          },
          "metadata": {},
          "execution_count": 95
        }
      ]
    },
    {
      "cell_type": "code",
      "source": [
        "# You can also use \":\" to select \"all\" of a target dimension\n",
        "x[:, :, :]"
      ],
      "metadata": {
        "colab": {
          "base_uri": "https://localhost:8080/"
        },
        "id": "7q28ZCtrosGj",
        "outputId": "fa128733-4ecf-48e4-a5cd-785895710ab2"
      },
      "execution_count": null,
      "outputs": [
        {
          "output_type": "execute_result",
          "data": {
            "text/plain": [
              "tensor([[[1, 2, 3],\n",
              "         [4, 5, 6],\n",
              "         [7, 8, 9]]])"
            ]
          },
          "metadata": {},
          "execution_count": 96
        }
      ]
    },
    {
      "cell_type": "code",
      "source": [
        "# Get all values of 0th and 1st dimensions but only index 1 of the 2nd dimension\n",
        "x[:, :, 1]"
      ],
      "metadata": {
        "colab": {
          "base_uri": "https://localhost:8080/"
        },
        "id": "YO1eJ3Umo2A2",
        "outputId": "f44aec72-881b-4f39-b611-768e2e6cf710"
      },
      "execution_count": null,
      "outputs": [
        {
          "output_type": "execute_result",
          "data": {
            "text/plain": [
              "tensor([[2, 5, 8]])"
            ]
          },
          "metadata": {},
          "execution_count": 97
        }
      ]
    },
    {
      "cell_type": "code",
      "source": [
        "# Get all values of the 0 dimension but only the 1 index value of the 1st and 2nd dimension\n",
        "x[:, 1, 1]"
      ],
      "metadata": {
        "colab": {
          "base_uri": "https://localhost:8080/"
        },
        "id": "o5Yh4IGNpP5p",
        "outputId": "b1e27225-41c2-40b3-ef64-5c5e5a6542f9"
      },
      "execution_count": null,
      "outputs": [
        {
          "output_type": "execute_result",
          "data": {
            "text/plain": [
              "tensor([5])"
            ]
          },
          "metadata": {},
          "execution_count": 98
        }
      ]
    },
    {
      "cell_type": "code",
      "source": [
        "# Get index 0 of 0th and 1st dimension and all values of 2nd dimension\n",
        "x[0, 0, :]"
      ],
      "metadata": {
        "colab": {
          "base_uri": "https://localhost:8080/"
        },
        "id": "N8odwAJipctN",
        "outputId": "154635e8-f81d-437b-e71a-a2264e9453cb"
      },
      "execution_count": null,
      "outputs": [
        {
          "output_type": "execute_result",
          "data": {
            "text/plain": [
              "tensor([1, 2, 3])"
            ]
          },
          "metadata": {},
          "execution_count": 99
        }
      ]
    },
    {
      "cell_type": "code",
      "source": [
        "# Index on x to return 9\n",
        "print('Return 9: ', x[0, 2, 2])\n",
        "\n",
        "# Index on x to return 3, 6, 9\n",
        "print('Return 3, 6, 9: ', x[:, :, 2])"
      ],
      "metadata": {
        "colab": {
          "base_uri": "https://localhost:8080/"
        },
        "id": "jUGptxsZpu8h",
        "outputId": "f42e9456-0283-45ee-9bae-4232fe8767c2"
      },
      "execution_count": null,
      "outputs": [
        {
          "output_type": "stream",
          "name": "stdout",
          "text": [
            "Return 9:  tensor(9)\n",
            "Return 3, 6, 9:  tensor([[3, 6, 9]])\n"
          ]
        }
      ]
    },
    {
      "cell_type": "markdown",
      "source": [
        "## PyTorch Tensors & NumPy\n",
        "\n",
        "NumPy is a popular scientific Python numerical computing library, and beacuse of this, PyTorch has the functionality to interact with it.\n",
        "\n",
        "* Data in NumPy, but you want it in PyTorch tensor -> `torch.from_numpy(ndarray)`\n",
        "* Data PyTorch tensor, but you want it in NumPy -> `torch.Tensor.numpy()`"
      ],
      "metadata": {
        "id": "5A7__AaDq7xK"
      }
    },
    {
      "cell_type": "code",
      "source": [
        "# Import Torch & NumPy\n",
        "import torch\n",
        "import numpy as np\n",
        "\n",
        "# Create a tensor\n",
        "array = np.arange(1.0, 8.0)\n",
        "\n",
        "# NumPy array to tensor\n",
        "tensor = torch.from_numpy(array) # Warning - When converting from NumPy to Pytorch, PyTorch will reflect NumPy's default datatype of float64 unless specified otherwise\n",
        "array, tensor"
      ],
      "metadata": {
        "colab": {
          "base_uri": "https://localhost:8080/"
        },
        "id": "WNE8dn7-qDME",
        "outputId": "87b4bc93-1b0d-4da5-fb25-40e54a2c26ee"
      },
      "execution_count": null,
      "outputs": [
        {
          "output_type": "execute_result",
          "data": {
            "text/plain": [
              "(array([1., 2., 3., 4., 5., 6., 7.]),\n",
              " tensor([1., 2., 3., 4., 5., 6., 7.], dtype=torch.float64))"
            ]
          },
          "metadata": {},
          "execution_count": 106
        }
      ]
    },
    {
      "cell_type": "code",
      "source": [
        "# Q: Change the value of array, what will this do to \"tensor\"? A: When the value of the array is changed, it does not change the value of the tensor\n",
        "array = array + 1\n",
        "array, tensor"
      ],
      "metadata": {
        "colab": {
          "base_uri": "https://localhost:8080/"
        },
        "id": "G8Lk1Imvsu8R",
        "outputId": "482b9e3d-ba1e-4513-e5b8-61e48afb754c"
      },
      "execution_count": null,
      "outputs": [
        {
          "output_type": "execute_result",
          "data": {
            "text/plain": [
              "(array([2., 3., 4., 5., 6., 7., 8.]),\n",
              " tensor([1., 2., 3., 4., 5., 6., 7.], dtype=torch.float64))"
            ]
          },
          "metadata": {},
          "execution_count": 108
        }
      ]
    },
    {
      "cell_type": "code",
      "source": [
        "# Tensor to NumPy array (Note: dtype changes from float64 to float32 which could lead to dtype errors)\n",
        "tensor = torch.ones(7)\n",
        "numpy_tensor = tensor.numpy()\n",
        "tensor, numpy_tensor"
      ],
      "metadata": {
        "colab": {
          "base_uri": "https://localhost:8080/"
        },
        "id": "ICDjnnjd0tiM",
        "outputId": "e691c420-b44a-4497-dc35-7e7976b564b1"
      },
      "execution_count": null,
      "outputs": [
        {
          "output_type": "execute_result",
          "data": {
            "text/plain": [
              "(tensor([1., 1., 1., 1., 1., 1., 1.]),\n",
              " array([1., 1., 1., 1., 1., 1., 1.], dtype=float32))"
            ]
          },
          "metadata": {},
          "execution_count": 109
        }
      ]
    },
    {
      "cell_type": "code",
      "source": [
        "# Q: Change the tensor, what happens to \"numpy_tensor\"? A: The numpy_tensor remains the same as they do not share memory.\n",
        "tensor = tensor + 1\n",
        "tensor, numpy_tensor"
      ],
      "metadata": {
        "colab": {
          "base_uri": "https://localhost:8080/"
        },
        "id": "Q8ZeyixQ18sG",
        "outputId": "5157472e-e082-4848-936e-16392b3cef9d"
      },
      "execution_count": null,
      "outputs": [
        {
          "output_type": "execute_result",
          "data": {
            "text/plain": [
              "(tensor([2., 2., 2., 2., 2., 2., 2.]),\n",
              " array([1., 1., 1., 1., 1., 1., 1.], dtype=float32))"
            ]
          },
          "metadata": {},
          "execution_count": 110
        }
      ]
    },
    {
      "cell_type": "markdown",
      "source": [
        "## Reproducibility (trying to take the random out of random)\n",
        "\n",
        "In short how a neural network learns:\n",
        "\n",
        "`start with random numbers -> tensor operations -> try to make better (again and again and again)`\n",
        "\n",
        "The **random seed** concept is used to reduce the randomness in neural networks and PyTorch.\n",
        "\n",
        "Essentially, what the random seed does is flavour the randomness.\n",
        "\n",
        "Resource: https://pytorch.org/docs/stable/notes/randomness.html"
      ],
      "metadata": {
        "id": "cvvnNXDr3Fgv"
      }
    },
    {
      "cell_type": "code",
      "source": [
        "import torch\n",
        "\n",
        "# Create two random tensors\n",
        "random_tensor_A = torch.rand(3, 4)\n",
        "random_tensor_B = torch.rand(3, 4)\n",
        "\n",
        "print(f\"Tensor A:\\n{random_tensor_A}\\n\")\n",
        "print(f\"Tensor B:\\n{random_tensor_B}\\n\")\n",
        "print(f\"Does Tensor A equal Tensor B? (anywhere)\")\n",
        "random_tensor_A == random_tensor_B  # comparisson operator \"--\" is used to compare the tensors"
      ],
      "metadata": {
        "colab": {
          "base_uri": "https://localhost:8080/"
        },
        "id": "JDll3HNh2lhM",
        "outputId": "5b25fdc5-c6ae-4822-d996-50e529938439"
      },
      "execution_count": null,
      "outputs": [
        {
          "output_type": "stream",
          "name": "stdout",
          "text": [
            "Tensor A:\n",
            "tensor([[0.8968, 0.2582, 0.3079, 0.7189],\n",
            "        [0.4341, 0.7081, 0.7513, 0.3273],\n",
            "        [0.1663, 0.1136, 0.5636, 0.7088]])\n",
            "\n",
            "Tensor B:\n",
            "tensor([[0.3323, 0.6364, 0.4186, 0.7286],\n",
            "        [0.1123, 0.1071, 0.2958, 0.4780],\n",
            "        [0.0566, 0.1105, 0.1474, 0.8516]])\n",
            "\n",
            "Does Tensor A equal Tensor B? (anywhere)\n"
          ]
        },
        {
          "output_type": "execute_result",
          "data": {
            "text/plain": [
              "tensor([[False, False, False, False],\n",
              "        [False, False, False, False],\n",
              "        [False, False, False, False]])"
            ]
          },
          "metadata": {},
          "execution_count": 112
        }
      ]
    },
    {
      "cell_type": "code",
      "source": [
        "# Let's make some random but reproducable tensors\n",
        "\n",
        "# Import torch and random\n",
        "import torch\n",
        "import random\n",
        "\n",
        "# # Set the random seed\n",
        "RANDOM_SEED=42 # try changing this to different values and see what happens to the numbers below\n",
        "torch.manual_seed(seed=RANDOM_SEED)\n",
        "random_tensor_C = torch.rand(3, 4)\n",
        "\n",
        "# Have to reset the seed every time a new rand() is called\n",
        "# Without this, tensor_D would be different to tensor_C\n",
        "torch.random.manual_seed(seed=RANDOM_SEED) # try commenting this line out and seeing what happens\n",
        "random_tensor_D = torch.rand(3, 4)\n",
        "\n",
        "print(f\"Tensor C:\\n{random_tensor_C}\\n\")\n",
        "print(f\"Tensor D:\\n{random_tensor_D}\\n\")\n",
        "print(f\"Does Tensor C equal Tensor D? (anywhere)\")\n",
        "random_tensor_C == random_tensor_D"
      ],
      "metadata": {
        "colab": {
          "base_uri": "https://localhost:8080/"
        },
        "id": "MzeNeVdU4lD_",
        "outputId": "d5146d27-a77f-4930-df36-95e2d0ef254c"
      },
      "execution_count": null,
      "outputs": [
        {
          "output_type": "stream",
          "name": "stdout",
          "text": [
            "Tensor C:\n",
            "tensor([[0.8823, 0.9150, 0.3829, 0.9593],\n",
            "        [0.3904, 0.6009, 0.2566, 0.7936],\n",
            "        [0.9408, 0.1332, 0.9346, 0.5936]])\n",
            "\n",
            "Tensor D:\n",
            "tensor([[0.8823, 0.9150, 0.3829, 0.9593],\n",
            "        [0.3904, 0.6009, 0.2566, 0.7936],\n",
            "        [0.9408, 0.1332, 0.9346, 0.5936]])\n",
            "\n",
            "Does Tensor C equal Tensor D? (anywhere)\n"
          ]
        },
        {
          "output_type": "execute_result",
          "data": {
            "text/plain": [
              "tensor([[True, True, True, True],\n",
              "        [True, True, True, True],\n",
              "        [True, True, True, True]])"
            ]
          },
          "metadata": {},
          "execution_count": 115
        }
      ]
    },
    {
      "cell_type": "markdown",
      "source": [
        "## Running tensors and PyTorch objects on the GPUs (and making faster computations)\n",
        "\n",
        "GPUs provide faster computation on numbers thanks to CUDA, NVIDEA hardware and PYTORCH working together behind the scenes.\n",
        "\n",
        "**How to access a suitable GPU:**\n",
        "1. Easy: Google Colab (Free or Paid Version both work)\n",
        "2. Medium: Use your own GPU (Requires investment of purchasing GPU)\n",
        "3. Hard: Cloud Computing such as AWS, GCP or AZURE (unlimited resources but expensive and complicated set up)\n",
        "\n",
        "Note: for options 2 & 3, PyTorch + GPU drivers (CUDA) can take a litte bit of setting up, to do this, refer to PyTorch for up to date set up documentation.\n",
        "\n",
        "**Resources:**\n",
        "- https://pytorch.org/get-started/locally/\n",
        "- https://pytorch.org/docs/stable/notes/cuda.html (**Device Agnostic Code** - It's best practise to set up device agnostic code so the code can run on GPU when available else CPU)\n",
        "\n",
        "\n",
        "**Change from CPU to GPU in Google Collab:**\n",
        "- Click Runtime\n",
        "- Click Change Runtime Type\n",
        "- Select GPU\n",
        "- Restart Runtime\n",
        "- `!nvidia-smi` to check GPU"
      ],
      "metadata": {
        "id": "RdVRONiE6MVC"
      }
    },
    {
      "cell_type": "code",
      "source": [
        "!nvidia-smi"
      ],
      "metadata": {
        "colab": {
          "base_uri": "https://localhost:8080/"
        },
        "id": "Cr6K4Nph5K9i",
        "outputId": "b8c2bdfc-2bcd-47ea-ad53-4bd4b1cbf777"
      },
      "execution_count": null,
      "outputs": [
        {
          "output_type": "stream",
          "name": "stdout",
          "text": [
            "Thu Feb 29 13:00:07 2024       \n",
            "+---------------------------------------------------------------------------------------+\n",
            "| NVIDIA-SMI 535.104.05             Driver Version: 535.104.05   CUDA Version: 12.2     |\n",
            "|-----------------------------------------+----------------------+----------------------+\n",
            "| GPU  Name                 Persistence-M | Bus-Id        Disp.A | Volatile Uncorr. ECC |\n",
            "| Fan  Temp   Perf          Pwr:Usage/Cap |         Memory-Usage | GPU-Util  Compute M. |\n",
            "|                                         |                      |               MIG M. |\n",
            "|=========================================+======================+======================|\n",
            "|   0  Tesla T4                       Off | 00000000:00:04.0 Off |                    0 |\n",
            "| N/A   52C    P8              10W /  70W |      0MiB / 15360MiB |      0%      Default |\n",
            "|                                         |                      |                  N/A |\n",
            "+-----------------------------------------+----------------------+----------------------+\n",
            "                                                                                         \n",
            "+---------------------------------------------------------------------------------------+\n",
            "| Processes:                                                                            |\n",
            "|  GPU   GI   CI        PID   Type   Process name                            GPU Memory |\n",
            "|        ID   ID                                                             Usage      |\n",
            "|=======================================================================================|\n",
            "|  No running processes found                                                           |\n",
            "+---------------------------------------------------------------------------------------+\n"
          ]
        }
      ]
    },
    {
      "cell_type": "markdown",
      "source": [
        "### Check for GPU access with PyTorch"
      ],
      "metadata": {
        "id": "sGK3nycW8_Q0"
      }
    },
    {
      "cell_type": "code",
      "source": [
        "# Change for GPU access with PyTorch\n",
        "import torch\n",
        "torch.cuda.is_available()"
      ],
      "metadata": {
        "colab": {
          "base_uri": "https://localhost:8080/"
        },
        "id": "J1kQQ_pT8xeh",
        "outputId": "ab95632f-1011-459f-f61b-ef0065691d7a"
      },
      "execution_count": null,
      "outputs": [
        {
          "output_type": "execute_result",
          "data": {
            "text/plain": [
              "True"
            ]
          },
          "metadata": {},
          "execution_count": 3
        }
      ]
    },
    {
      "cell_type": "code",
      "source": [
        "# Setup device agnostic code (This allows you to run a GPU when available but still work on CPU if not available)\n",
        "device = \"cuda\" if torch.cuda.is_available() else \"cpu\"\n",
        "device"
      ],
      "metadata": {
        "colab": {
          "base_uri": "https://localhost:8080/",
          "height": 35
        },
        "id": "9QBz5aiB9Xk4",
        "outputId": "cc7ddc75-d29f-4084-9d83-e3ff3aac666b"
      },
      "execution_count": null,
      "outputs": [
        {
          "output_type": "execute_result",
          "data": {
            "text/plain": [
              "'cuda'"
            ],
            "application/vnd.google.colaboratory.intrinsic+json": {
              "type": "string"
            }
          },
          "metadata": {},
          "execution_count": 4
        }
      ]
    },
    {
      "cell_type": "code",
      "source": [
        "# Count number of devices\n",
        "torch.cuda.device_count()"
      ],
      "metadata": {
        "colab": {
          "base_uri": "https://localhost:8080/"
        },
        "id": "Yzb-KgOo96-x",
        "outputId": "dadb5b31-1ffa-4538-d6a0-b1783fc77eb6"
      },
      "execution_count": null,
      "outputs": [
        {
          "output_type": "execute_result",
          "data": {
            "text/plain": [
              "1"
            ]
          },
          "metadata": {},
          "execution_count": 5
        }
      ]
    },
    {
      "cell_type": "markdown",
      "source": [
        "## Putting tensors (and models) on the GPU\n",
        "\n",
        "The reason we want our tensors / models on the GPU is beacause it results in faster computations than a CPU."
      ],
      "metadata": {
        "id": "rb-OptHe_EX5"
      }
    },
    {
      "cell_type": "code",
      "source": [
        "# Create a tensor (default is on the CPU)\n",
        "tensor = torch.tensor([1, 2, 3])\n",
        "\n",
        "# Tensor not on GPU\n",
        "print(tensor, tensor.device)"
      ],
      "metadata": {
        "colab": {
          "base_uri": "https://localhost:8080/"
        },
        "id": "uCgoyi_T-Ejz",
        "outputId": "210cf0aa-7025-495f-94e2-defbe9d8699e"
      },
      "execution_count": null,
      "outputs": [
        {
          "output_type": "stream",
          "name": "stdout",
          "text": [
            "tensor([1, 2, 3]) cpu\n"
          ]
        }
      ]
    },
    {
      "cell_type": "code",
      "source": [
        "# Move tensor to GPU if available\n",
        "tensor_on_gpu = tensor.to(device)\n",
        "tensor_on_gpu"
      ],
      "metadata": {
        "colab": {
          "base_uri": "https://localhost:8080/"
        },
        "id": "kK9FRShk_xYe",
        "outputId": "e05e9daa-eb17-40e9-a8f2-c6e375db00a8"
      },
      "execution_count": null,
      "outputs": [
        {
          "output_type": "execute_result",
          "data": {
            "text/plain": [
              "tensor([1, 2, 3], device='cuda:0')"
            ]
          },
          "metadata": {},
          "execution_count": 8
        }
      ]
    },
    {
      "cell_type": "markdown",
      "source": [
        "### Moving tensors back to the CPU\n",
        "\n"
      ],
      "metadata": {
        "id": "EdNkpLtYAZSt"
      }
    },
    {
      "cell_type": "code",
      "source": [
        "# If tensor is on GPU, can't transform it to NumPy\n",
        "tensor_on_gpu.numpy()"
      ],
      "metadata": {
        "colab": {
          "base_uri": "https://localhost:8080/",
          "height": 159
        },
        "id": "su9BjzW8AHrL",
        "outputId": "c7f487d5-9103-41d3-c6ea-24e89a6acbd5"
      },
      "execution_count": null,
      "outputs": [
        {
          "output_type": "error",
          "ename": "TypeError",
          "evalue": "can't convert cuda:0 device type tensor to numpy. Use Tensor.cpu() to copy the tensor to host memory first.",
          "traceback": [
            "\u001b[0;31m---------------------------------------------------------------------------\u001b[0m",
            "\u001b[0;31mTypeError\u001b[0m                                 Traceback (most recent call last)",
            "\u001b[0;32m<ipython-input-9-b7da913938a5>\u001b[0m in \u001b[0;36m<cell line: 2>\u001b[0;34m()\u001b[0m\n\u001b[1;32m      1\u001b[0m \u001b[0;31m# If tensor is on GPU, can't transform it to NumPy\u001b[0m\u001b[0;34m\u001b[0m\u001b[0;34m\u001b[0m\u001b[0m\n\u001b[0;32m----> 2\u001b[0;31m \u001b[0mtensor_on_gpu\u001b[0m\u001b[0;34m.\u001b[0m\u001b[0mnumpy\u001b[0m\u001b[0;34m(\u001b[0m\u001b[0;34m)\u001b[0m\u001b[0;34m\u001b[0m\u001b[0;34m\u001b[0m\u001b[0m\n\u001b[0m",
            "\u001b[0;31mTypeError\u001b[0m: can't convert cuda:0 device type tensor to numpy. Use Tensor.cpu() to copy the tensor to host memory first."
          ]
        }
      ]
    },
    {
      "cell_type": "code",
      "source": [
        "# To fix the GPU tensor with NumPy error, we can first set it to the CPU\n",
        "tensor_back_on_cpu = tensor_on_gpu.cpu().numpy()\n",
        "tensor_back_on_cpu"
      ],
      "metadata": {
        "colab": {
          "base_uri": "https://localhost:8080/",
          "height": 176
        },
        "id": "CAcRGTZ8A9SA",
        "outputId": "cc7558c2-37a3-4b61-c4f6-a94ed790bb35"
      },
      "execution_count": null,
      "outputs": [
        {
          "output_type": "error",
          "ename": "AttributeError",
          "evalue": "'numpy.ndarray' object has no attribute 'cpu'",
          "traceback": [
            "\u001b[0;31m---------------------------------------------------------------------------\u001b[0m",
            "\u001b[0;31mAttributeError\u001b[0m                            Traceback (most recent call last)",
            "\u001b[0;32m<ipython-input-18-f17cba6cd2be>\u001b[0m in \u001b[0;36m<cell line: 2>\u001b[0;34m()\u001b[0m\n\u001b[1;32m      1\u001b[0m \u001b[0;31m# To fix the GPU tensor with NumPy error, we can first set it to the CPU\u001b[0m\u001b[0;34m\u001b[0m\u001b[0;34m\u001b[0m\u001b[0m\n\u001b[0;32m----> 2\u001b[0;31m \u001b[0mtensor_back_on_cpu\u001b[0m \u001b[0;34m=\u001b[0m \u001b[0mtensor_on_gpu\u001b[0m\u001b[0;34m.\u001b[0m\u001b[0mcpu\u001b[0m\u001b[0;34m(\u001b[0m\u001b[0;34m)\u001b[0m\u001b[0;34m.\u001b[0m\u001b[0mnumpy\u001b[0m\u001b[0;34m(\u001b[0m\u001b[0;34m)\u001b[0m\u001b[0;34m\u001b[0m\u001b[0;34m\u001b[0m\u001b[0m\n\u001b[0m\u001b[1;32m      3\u001b[0m \u001b[0mtensor_back_on_cpu\u001b[0m\u001b[0;34m\u001b[0m\u001b[0;34m\u001b[0m\u001b[0m\n",
            "\u001b[0;31mAttributeError\u001b[0m: 'numpy.ndarray' object has no attribute 'cpu'"
          ]
        }
      ]
    },
    {
      "cell_type": "code",
      "source": [
        "# The above returns a copy of the GPU tensor in CPU memory so the original tensor is still on GPU\n",
        "tensor_on_gpu"
      ],
      "metadata": {
        "colab": {
          "base_uri": "https://localhost:8080/"
        },
        "id": "OCF1TqFMBIc6",
        "outputId": "ed78bfad-2da6-4aaa-e3a5-4ed536b4971a"
      },
      "execution_count": null,
      "outputs": [
        {
          "output_type": "execute_result",
          "data": {
            "text/plain": [
              "array([2, 3, 4])"
            ]
          },
          "metadata": {},
          "execution_count": 19
        }
      ]
    },
    {
      "cell_type": "markdown",
      "source": [
        "## Excercises and Extra-Curriculum\n",
        "\n",
        "https://github.com/mrdbourke/pytorch-deep-learning/blob/main/extras/exercises/00_pytorch_fundamentals_exercises.ipynb\n",
        "\n",
        "**Resources:**\n",
        "- https://github.com/mrdbourke/pytorch-deep-learning/blob/main/00_pytorch_fundamentals.ipynb\n",
        "- https://pytorch.org/tutorials/beginner/basics/intro.html\n",
        "- https://pytorch.org/docs/stable/tensors.html#torch-tensor\n",
        "- https://pytorch.org/docs/master/notes/cuda.html#cuda-semantics\n",
        "- https://youtu.be/f5liqUk0ZTw (How a Tensor Can Represent Data Video)\n",
        "\n",
        "\n",
        "\n",
        "---\n",
        "\n",
        "\n"
      ],
      "metadata": {
        "id": "41ix19W8CFVI"
      }
    },
    {
      "cell_type": "code",
      "source": [
        "# 1. Create a random tensor with shape (7, 7)\n",
        "\n",
        "# Import torch\n",
        "import torch\n",
        "\n",
        "# Create random tensor\n",
        "tensor1 = torch.rand(7, 7)\n",
        "print(f\"\"\"Tensor 1 Values:\n",
        "{tensor1}\n",
        "\n",
        "Tensor 1 Shape:\n",
        "{tensor1.shape}\"\"\")"
      ],
      "metadata": {
        "id": "sUN0QImgCtvp",
        "colab": {
          "base_uri": "https://localhost:8080/"
        },
        "outputId": "d3f49f2a-c5fa-47a4-cef3-8f85e6fda73d"
      },
      "execution_count": null,
      "outputs": [
        {
          "output_type": "stream",
          "name": "stdout",
          "text": [
            "Tensor 1 Values:\n",
            "tensor([[0.2143, 0.2394, 0.7524, 0.7990, 0.6225, 0.5436, 0.5129],\n",
            "        [0.1931, 0.3651, 0.2121, 0.2515, 0.4096, 0.3747, 0.5322],\n",
            "        [0.6457, 0.9742, 0.7431, 0.5773, 0.2570, 0.1147, 0.6980],\n",
            "        [0.5088, 0.5127, 0.0955, 0.3479, 0.8374, 0.0383, 0.4788],\n",
            "        [0.1208, 0.2192, 0.3998, 0.5656, 0.8652, 0.4840, 0.5387],\n",
            "        [0.8443, 0.1051, 0.6247, 0.9829, 0.2974, 0.1257, 0.9162],\n",
            "        [0.6550, 0.5051, 0.5474, 0.7604, 0.9998, 0.7231, 0.9086]])\n",
            "      \n",
            "Tensor 1 Shape:\n",
            "torch.Size([7, 7])\n"
          ]
        }
      ]
    },
    {
      "cell_type": "code",
      "source": [
        "# 2. Perform a matrix multiplication on the tensor from 2 with another random tensor with shape (1, 7) (hint: you may have to transpose the second tensor).\n",
        "\n",
        "# Create another random tensor\n",
        "tensor2 = torch.rand(1, 7)\n",
        "print(f\"\"\"Tensor 2 Values:\n",
        "{tensor2}\n",
        "\n",
        "Tensor 2 Shape:\n",
        "{tensor2.shape}\"\"\")\n",
        "\n",
        "# Perform matrix multiplication\n",
        "tensor3 = torch.matmul(tensor1, tensor2.T)\n",
        "print(f\"\"\"\\nTensor 3 Values:\n",
        "{tensor3}\n",
        "\n",
        "Tensor 3 Shape:\n",
        "{tensor3.shape}\"\"\")"
      ],
      "metadata": {
        "id": "2k4zXISJCvlD",
        "colab": {
          "base_uri": "https://localhost:8080/"
        },
        "outputId": "3c3c0188-34db-4414-bbc8-9def468b5208"
      },
      "execution_count": null,
      "outputs": [
        {
          "output_type": "stream",
          "name": "stdout",
          "text": [
            "Tensor 2 Values:\n",
            "tensor([[0.4677, 0.4069, 0.7382, 0.9033, 0.4895, 0.4389, 0.9729]])\n",
            "      \n",
            "Tensor 2 Shape:\n",
            "torch.Size([1, 7])\n",
            "\n",
            "Tensor 3 Values:\n",
            "tensor([[2.5170],\n",
            "        [1.5054],\n",
            "        [2.6236],\n",
            "        [1.7239],\n",
            "        [2.1117],\n",
            "        [2.8787],\n",
            "        [3.2935]])\n",
            "      \n",
            "Tensor 3 Shape:\n",
            "torch.Size([7, 1])\n"
          ]
        }
      ]
    },
    {
      "cell_type": "code",
      "source": [
        "# 3. Set the random seed to 0 and do 2 & 3 over again.\n",
        "\n",
        "# Set manual seed\n",
        "RANDOM_SEED=0\n",
        "torch.manual_seed(seed=RANDOM_SEED)\n",
        "\n",
        "# Create two random tensors\n",
        "randTensor1 = torch.rand(3, 4)\n",
        "randTensor2 = torch.rand(4, 1)\n",
        "\n",
        "# Matrix multiply tensors\n",
        "randTensor3 = torch.matmul(randTensor1, randTensor2)\n",
        "print(f\"Result: {randTensor3.T}\")\n"
      ],
      "metadata": {
        "id": "IgMwBDcHC6Jg",
        "colab": {
          "base_uri": "https://localhost:8080/"
        },
        "outputId": "8f5d8979-4e3c-4424-aa8f-7bc8b739fa32"
      },
      "execution_count": null,
      "outputs": [
        {
          "output_type": "stream",
          "name": "stdout",
          "text": [
            "Result: tensor([[0.2353, 0.7228, 0.4278]])\n"
          ]
        }
      ]
    },
    {
      "cell_type": "code",
      "source": [
        "# 4. Speaking of random seeds, we saw how to set it with torch.manual_seed() but is there a GPU equivalent? (hint: you'll need to look into the documentation for torch.cuda for this one) - If there is, set the GPU random seed to 1234.\n",
        "\n",
        "# Set random seed on the GPU\n",
        "torch.cuda.manual_seed(1234)\n",
        "gpu_seed = torch.cuda.initial_seed()\n",
        "\n",
        "# Print GPU seed\n",
        "print(\"GPU Seed:\", gpu_seed)"
      ],
      "metadata": {
        "id": "fyZiv2O2DG-n",
        "colab": {
          "base_uri": "https://localhost:8080/"
        },
        "outputId": "b124af73-8b69-4e11-df69-6c9979b01e7f"
      },
      "execution_count": null,
      "outputs": [
        {
          "output_type": "stream",
          "name": "stdout",
          "text": [
            "GPU Seed: 1234\n"
          ]
        }
      ]
    },
    {
      "cell_type": "code",
      "source": [
        "# 5. Create two random tensors of shape (2, 3) and send them both to the GPU (you'll need access to a GPU for this). Set torch.manual_seed(1234) when creating the tensors (this doesn't have to be the GPU random seed).\n",
        "\n",
        "# Set random seed\n",
        "torch.manual_seed(1234)\n",
        "\n",
        "# Check for access to GPU\n",
        "device = torch.device('cuda' if torch.cuda.is_available() else 'cpu')\n",
        "\n",
        "# Create two random tensors on GPU\n",
        "tensor_A = torch.rand((2, 3), device=device)\n",
        "tensor_B = torch.rand((2, 3), device=device)\n",
        "\n",
        "# Print device\n",
        "print(\"Device:\", device)\n",
        "\n",
        "# Print tensors\n",
        "print(f\"Tensor A: {tensor_A}\")\n",
        "print(f\"Tensor B: {tensor_B}\")"
      ],
      "metadata": {
        "id": "KIuAggAhDUCj",
        "colab": {
          "base_uri": "https://localhost:8080/"
        },
        "outputId": "f9d857e4-d4b1-4e48-8248-7d36e748e17d"
      },
      "execution_count": null,
      "outputs": [
        {
          "output_type": "stream",
          "name": "stdout",
          "text": [
            "Device: cuda\n",
            "Tensor A: tensor([[0.1272, 0.8167, 0.5440],\n",
            "        [0.6601, 0.2721, 0.9737]], device='cuda:0')\n",
            "Tensor B: tensor([[0.6208, 0.0276, 0.3255],\n",
            "        [0.1114, 0.6812, 0.3608]], device='cuda:0')\n"
          ]
        }
      ]
    },
    {
      "cell_type": "code",
      "source": [
        "# 6. Perform a matrix multiplication on the tensors you created in step 5 (again, you may have to adjust the shapes of one of the tensors).\n",
        "\n",
        "# Perform matmul on tensor_A and tensor_B\n",
        "result = torch.matmul(tensor_A, tensor_B.T)\n",
        "print(f\"\"\"Result Tensor Value:\n",
        "{result}\n",
        "\n",
        "Result Tensor Shape:\n",
        "{result.shape}\"\"\")"
      ],
      "metadata": {
        "id": "MEgz9MU3DaiU",
        "colab": {
          "base_uri": "https://localhost:8080/"
        },
        "outputId": "1813ada0-8815-4cf9-8680-0b4eb69a5cb1"
      },
      "execution_count": null,
      "outputs": [
        {
          "output_type": "stream",
          "name": "stdout",
          "text": [
            "Result Tensor Value:\n",
            "tensor([[0.2786, 0.7668],\n",
            "        [0.7343, 0.6102]], device='cuda:0')\n",
            "\n",
            "Result Tensor Shape:\n",
            "torch.Size([2, 2])\n"
          ]
        }
      ]
    },
    {
      "cell_type": "code",
      "source": [
        "# 7. Find the maximum and minimum values of the output of 7.\n",
        "\n",
        "# Find max\n",
        "max_val = torch.max(result)\n",
        "print(f\"\"\"Maximum Value:\n",
        "{max_val}\"\"\")\n",
        "\n",
        "# Find min\n",
        "min_val = torch.min(result)\n",
        "print(f\"\"\"\n",
        "Minimum Value:\n",
        "{min_val}\"\"\")"
      ],
      "metadata": {
        "id": "HHZLX2lQDj4Y",
        "colab": {
          "base_uri": "https://localhost:8080/"
        },
        "outputId": "70ae44d4-9bd9-4694-df63-86cd337c4c7e"
      },
      "execution_count": null,
      "outputs": [
        {
          "output_type": "stream",
          "name": "stdout",
          "text": [
            "Maximum Value:\n",
            "0.7667766809463501\n",
            "\n",
            "Minimum Value:\n",
            "0.27863210439682007\n"
          ]
        }
      ]
    },
    {
      "cell_type": "code",
      "source": [
        "# 8. Find the maximum and minimum index values of the output of 7.\n",
        "\n",
        "# Find arg max\n",
        "max_idx = torch.argmax(result)\n",
        "print(f\"\"\"\n",
        "Maximum Index Value:\n",
        "{max_idx}\"\"\")\n",
        "\n",
        "\n",
        "# Find arg min\n",
        "min_idx = torch.argmin(result)\n",
        "print(f\"\"\"\n",
        "Minimum Index Value:\n",
        "{min_idx}\"\"\")\n"
      ],
      "metadata": {
        "id": "J6clB-tsDnxa",
        "colab": {
          "base_uri": "https://localhost:8080/"
        },
        "outputId": "49f568e5-a73c-4876-f094-b43a8354dd00"
      },
      "execution_count": null,
      "outputs": [
        {
          "output_type": "stream",
          "name": "stdout",
          "text": [
            "\n",
            "Maximum Index Value:\n",
            "1\n",
            "\n",
            "Minimum Index Value:\n",
            "0\n"
          ]
        }
      ]
    },
    {
      "cell_type": "code",
      "source": [
        "# 9. Make a random tensor with shape (1, 1, 1, 10) and then create a new tensor with all the 1 dimensions removed to be left with a tensor of shape (10). Set the seed to 7 when you create it and print out the first tensor and it's shape as well as the second tensor and it's shape.\n",
        "\n",
        "# Set seed\n",
        "torch.manual_seed(7)\n",
        "\n",
        "# Create random tensor\n",
        "tensor_10D = torch.rand((1, 1, 1, 10))\n",
        "\n",
        "# Remove single dimensions\n",
        "tensor_1D = torch.squeeze(tensor_10D)\n",
        "\n",
        "# Print out tensors and their shapes\n",
        "print(\"Original Tensor:\")\n",
        "print(f\"Value: {tensor_10D}\")\n",
        "print(f\"Shape: {tensor_10D.shape}\")\n",
        "\n",
        "print(\"\\nTensor with Single Dimensions Removed:\")\n",
        "print(f\"Value: {tensor_1D}\")\n",
        "print(f\"Shape: {tensor_1D.shape}\")"
      ],
      "metadata": {
        "id": "DdJP7iEwDspm",
        "colab": {
          "base_uri": "https://localhost:8080/"
        },
        "outputId": "f912b7a3-7825-4bb3-d646-ea2615082b86"
      },
      "execution_count": null,
      "outputs": [
        {
          "output_type": "stream",
          "name": "stdout",
          "text": [
            "Original Tensor:\n",
            "Value: tensor([[[[0.5349, 0.1988, 0.6592, 0.6569, 0.2328, 0.4251, 0.2071, 0.6297,\n",
            "           0.3653, 0.8513]]]])\n",
            "Shape: torch.Size([1, 1, 1, 10])\n",
            "\n",
            "Tensor with Single Dimensions Removed:\n",
            "Value: tensor([0.5349, 0.1988, 0.6592, 0.6569, 0.2328, 0.4251, 0.2071, 0.6297, 0.3653,\n",
            "        0.8513])\n",
            "Shape: torch.Size([10])\n"
          ]
        }
      ]
    }
  ]
}